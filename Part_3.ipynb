{
 "cells": [
  {
   "cell_type": "markdown",
   "id": "d18aad3f-722b-496a-87ea-3b37bc04c5d7",
   "metadata": {},
   "source": [
    "# Part 3: The Five Kinds of Python Functions"
   ]
  },
  {
   "cell_type": "markdown",
   "id": "379aad81-d512-48e8-9337-ffc532afe464",
   "metadata": {},
   "source": [
    "## Agenda\n",
    "\n",
    "1. Function Definitions \n",
    "\n",
    "2. Higher-Order Functions\n",
    "\n",
    "3. Function Wrappers (around methods)\n",
    "\n",
    "4. Lambdas\n",
    "\n",
    "5. Callable Objects\n",
    "\n",
    "6. Generator Functions and Yield\n",
    "\n",
    "Yes. That's six. But. Higher-Order Functions aren't magical."
   ]
  },
  {
   "cell_type": "markdown",
   "id": "e8cd838e-4ab7-4ae0-8df5-d4d7da7e06d2",
   "metadata": {},
   "source": [
    "## 1. Function Definitions\n",
    "\n",
    "I've hinted at these.\n",
    "\n",
    "Several Elements:\n",
    "\n",
    "-  Name\n",
    "-  Zero or more parameters.\n",
    "-  One or more lines of code in the body.  Use ``pass`` as a degenerate case.\n",
    "-  Optional `return` statement to return a value. Otherwise it returns ``None``."
   ]
  },
  {
   "cell_type": "code",
   "execution_count": 1,
   "id": "812d8d9b-fca4-4882-b559-a795ddacfc8b",
   "metadata": {},
   "outputs": [],
   "source": [
    "def transform_1a(n: float) -> float:\n",
    "    return n * 0.7142"
   ]
  },
  {
   "cell_type": "code",
   "execution_count": 2,
   "id": "8d4e1d2b-271a-4749-85bb-54d740a9e443",
   "metadata": {},
   "outputs": [
    {
     "data": {
      "text/plain": [
       "785.6199999999999"
      ]
     },
     "execution_count": 2,
     "metadata": {},
     "output_type": "execute_result"
    }
   ],
   "source": [
    "transform_1a(1100)"
   ]
  },
  {
   "cell_type": "markdown",
   "id": "d5a14f00-9a91-4dc0-85de-148cacfa9475",
   "metadata": {},
   "source": [
    "## Some Features\n",
    "\n",
    "- Optional parameters (i.e., there's a default value)\n",
    "\n",
    "- Keyword argument values when calling the function\n",
    "\n",
    "- Variable numbers of positional or keyword parameters"
   ]
  },
  {
   "cell_type": "code",
   "execution_count": 3,
   "id": "2f1dcc5c-ef6f-4a2b-9ff9-f89b70b4d43f",
   "metadata": {},
   "outputs": [],
   "source": [
    "def transform_1b(n: float, factor: float = 0.7142) -> float:\n",
    "    return n * factor"
   ]
  },
  {
   "cell_type": "code",
   "execution_count": 4,
   "id": "6a16756a-6dc1-45ff-b34b-ab0cef5bee03",
   "metadata": {},
   "outputs": [
    {
     "data": {
      "text/plain": [
       "785.6199999999999"
      ]
     },
     "execution_count": 4,
     "metadata": {},
     "output_type": "execute_result"
    }
   ],
   "source": [
    "transform_1b(1100)"
   ]
  },
  {
   "cell_type": "code",
   "execution_count": 5,
   "id": "82df5921-82cd-414c-b2ee-34ce515bec84",
   "metadata": {},
   "outputs": [
    {
     "data": {
      "text/plain": [
       "720.0"
      ]
     },
     "execution_count": 5,
     "metadata": {},
     "output_type": "execute_result"
    }
   ],
   "source": [
    "transform_1b(1000, 0.72)"
   ]
  },
  {
   "cell_type": "code",
   "execution_count": 6,
   "id": "45fb5eff-df01-4a6f-ac15-b4516bfa5078",
   "metadata": {},
   "outputs": [
    {
     "data": {
      "text/plain": [
       "792.0"
      ]
     },
     "execution_count": 6,
     "metadata": {},
     "output_type": "execute_result"
    }
   ],
   "source": [
    "transform_1b(factor=0.72, n=1100)"
   ]
  },
  {
   "cell_type": "markdown",
   "id": "3a93ef9e-60fc-4e1d-bd7c-448d290d5ee7",
   "metadata": {},
   "source": [
    "## Variable Positional Arguments"
   ]
  },
  {
   "cell_type": "code",
   "execution_count": 7,
   "id": "79487276-6005-4230-84c5-896c3d4c4708",
   "metadata": {},
   "outputs": [],
   "source": [
    "def transform_1c(*args: float) -> float:\n",
    "    return [a * 0.7142 for a in args]"
   ]
  },
  {
   "cell_type": "code",
   "execution_count": 8,
   "id": "31b194ee-8b66-4715-a8ac-c75779918ede",
   "metadata": {},
   "outputs": [
    {
     "data": {
      "text/plain": [
       "[714.1999999999999, 785.6199999999999, 892.7499999999999, 928.4599999999999]"
      ]
     },
     "execution_count": 8,
     "metadata": {},
     "output_type": "execute_result"
    }
   ],
   "source": [
    "transform_1c(1000, 1100, 1250, 1300)"
   ]
  },
  {
   "cell_type": "code",
   "execution_count": 9,
   "id": "e171134a-09d1-461d-826a-27bb2513ed59",
   "metadata": {},
   "outputs": [],
   "source": [
    "def transform_1d(*args: float) -> float:\n",
    "    results = []\n",
    "    for a in args:\n",
    "        results.append(a * 0.7142)\n",
    "    return results"
   ]
  },
  {
   "cell_type": "code",
   "execution_count": 10,
   "id": "5af04082-eade-40db-bffa-95068d0427f3",
   "metadata": {},
   "outputs": [
    {
     "data": {
      "text/plain": [
       "[714.1999999999999, 785.6199999999999, 892.7499999999999, 928.4599999999999]"
      ]
     },
     "execution_count": 10,
     "metadata": {},
     "output_type": "execute_result"
    }
   ],
   "source": [
    "transform_1d(1000, 1100, 1250, 1300)"
   ]
  },
  {
   "cell_type": "markdown",
   "id": "05ea7f60-af4e-4553-ab9c-4e09381c07f6",
   "metadata": {},
   "source": [
    "## Variable Keyword Arguments"
   ]
  },
  {
   "cell_type": "code",
   "execution_count": 11,
   "id": "4334ae85-0bcf-415a-af11-a5bda311fd79",
   "metadata": {},
   "outputs": [],
   "source": [
    "def transform_1e(**kwargs: float) -> float:\n",
    "    n = kwargs[\"n\"]\n",
    "    factor = kwargs.get(\"factor\", 0.7142)\n",
    "    return n * factor"
   ]
  },
  {
   "cell_type": "code",
   "execution_count": 12,
   "id": "0a6af248-f585-4c1e-b881-77b1072c5d26",
   "metadata": {},
   "outputs": [
    {
     "data": {
      "text/plain": [
       "792.0"
      ]
     },
     "execution_count": 12,
     "metadata": {},
     "output_type": "execute_result"
    }
   ],
   "source": [
    "transform_1e(factor=0.72, n=1100)"
   ]
  },
  {
   "cell_type": "code",
   "execution_count": 13,
   "id": "03a6638d-aff9-4156-924d-9c0a10c4fac7",
   "metadata": {},
   "outputs": [
    {
     "data": {
      "text/plain": [
       "785.6199999999999"
      ]
     },
     "execution_count": 13,
     "metadata": {},
     "output_type": "execute_result"
    }
   ],
   "source": [
    "transform_1e(n=1100)"
   ]
  },
  {
   "cell_type": "markdown",
   "id": "9826e8b7-f098-41df-94d7-ba482474cbb9",
   "metadata": {},
   "source": [
    "## Important\n",
    "\n",
    "You rarely need *all* of these features in a single function.\n",
    "\n",
    "- If you think you do, reconsider your design, please.\n",
    "\n",
    "You'll often need default values to create optional arguments.\n",
    "\n",
    "Sometimes you'll want keyword args."
   ]
  },
  {
   "cell_type": "markdown",
   "id": "a6004f54-2ef2-41a0-9491-db7d96a2e4d0",
   "metadata": {},
   "source": [
    "## 2. Higher-Order Functions\n",
    "\n",
    "Function that takes function as an argument.\n",
    "\n",
    "And/or returns function as a result.\n",
    "\n",
    "In some languages, this is **Rocket Science**.\n",
    "\n",
    "Given \\\\(g(x)\\\\) is some function,\n",
    "\n",
    "\\\\[\n",
    "    f(g; a) = g(a \\times 0.7142)\n",
    "\\\\]"
   ]
  },
  {
   "cell_type": "code",
   "execution_count": 14,
   "id": "dd8abb04-8594-4f6b-b1a2-10901ef3ac2a",
   "metadata": {},
   "outputs": [],
   "source": [
    "from typing import Callable"
   ]
  },
  {
   "cell_type": "code",
   "execution_count": 15,
   "id": "0f91d747-ab44-4a99-8b09-464fbf92ce0b",
   "metadata": {},
   "outputs": [],
   "source": [
    "def transform_2a(n: float, g: Callable[[float], float] = None) -> float:\n",
    "    if g is None:\n",
    "        g = round\n",
    "    return g(n*0.7142)"
   ]
  },
  {
   "cell_type": "code",
   "execution_count": 16,
   "id": "e488e40d-7233-4771-a9cc-b389ddbe3544",
   "metadata": {},
   "outputs": [
    {
     "data": {
      "text/plain": [
       "786"
      ]
     },
     "execution_count": 16,
     "metadata": {},
     "output_type": "execute_result"
    }
   ],
   "source": [
    "transform_2a(n=1100)"
   ]
  },
  {
   "cell_type": "code",
   "execution_count": 17,
   "id": "b0aa2c1a-52e4-476f-8efa-10ab646dc903",
   "metadata": {},
   "outputs": [
    {
     "data": {
      "text/plain": [
       "785"
      ]
     },
     "execution_count": 17,
     "metadata": {},
     "output_type": "execute_result"
    }
   ],
   "source": [
    "transform_2a(1100, int)"
   ]
  },
  {
   "cell_type": "code",
   "execution_count": 18,
   "id": "4a5280bc-870b-48e8-812c-0bdc9b63fd21",
   "metadata": {},
   "outputs": [],
   "source": [
    "def round100(n: float) -> float:\n",
    "    return int(round(n, -2))"
   ]
  },
  {
   "cell_type": "code",
   "execution_count": 19,
   "id": "320696ec-ec1e-4be8-be06-1526ab82c4e3",
   "metadata": {},
   "outputs": [
    {
     "data": {
      "text/plain": [
       "800"
      ]
     },
     "execution_count": 19,
     "metadata": {},
     "output_type": "execute_result"
    }
   ],
   "source": [
    "transform_2a(1100, round100)"
   ]
  },
  {
   "cell_type": "markdown",
   "id": "f602ed28-ba06-4b2d-a52b-2b5089c79438",
   "metadata": {},
   "source": [
    "This makes a lot of functional programming kind of fun. And not much work."
   ]
  },
  {
   "cell_type": "markdown",
   "id": "4eb98f73-c136-4cc6-8926-4b018c901833",
   "metadata": {},
   "source": [
    "## 3. Function Wrappers\n",
    "\n",
    "These are functions that are \"syntactic sugar\" on methods.\n",
    "\n",
    "Example::\n",
    "\n",
    "    len(x)\n",
    "    \n",
    "This is really::\n",
    "\n",
    "    x.__len__()\n",
    "    \n",
    "The ``len()`` function invokes a similarly-named ``__len__()`` method of the object."
   ]
  },
  {
   "cell_type": "markdown",
   "id": "6c6a7170-e14a-43fb-b746-ac8c89f468d7",
   "metadata": {},
   "source": [
    "Some folks will try to say the ``len()`` syntax means Python is not \"purely\" object-oriented.\n",
    "\n",
    "Because it uses the class' ``__len__()`` method, I submit it is purely OO with some easier-to-read functional syntax."
   ]
  },
  {
   "cell_type": "markdown",
   "id": "e64b6893-3ab2-4015-af61-8688ce774396",
   "metadata": {},
   "source": [
    "These are a special case because there's a trivial mapping between function and method. No additional processing. Nothing. "
   ]
  },
  {
   "cell_type": "markdown",
   "id": "bc19c9c5-a753-4dc7-9b8a-e436dd420810",
   "metadata": {},
   "source": [
    "## 4. Lambda Objects\n",
    "\n",
    "Functions without a name and a trivial body.\n",
    "\n",
    "Function definitions via the ``def`` statement have a name, parameters, and a multi-statement body.\n",
    "\n",
    "Function definition via a ``lambda`` has parameters and a single expression, nothing more. In effect it's the expression from a ``return`` statement."
   ]
  },
  {
   "cell_type": "code",
   "execution_count": 20,
   "id": "a05295ed-9c2a-4a08-9e31-37e52a2a5322",
   "metadata": {},
   "outputs": [
    {
     "data": {
      "text/plain": [
       "800"
      ]
     },
     "execution_count": 20,
     "metadata": {},
     "output_type": "execute_result"
    }
   ],
   "source": [
    "transform_2a(1100, lambda n: int(round(n, -2)))"
   ]
  },
  {
   "cell_type": "code",
   "execution_count": 21,
   "id": "834502e3-4d43-439e-8482-42cd8db637f2",
   "metadata": {},
   "outputs": [
    {
     "data": {
      "text/plain": [
       "790"
      ]
     },
     "execution_count": 21,
     "metadata": {},
     "output_type": "execute_result"
    }
   ],
   "source": [
    "transform_2a(1100, lambda n: int(round(n, -1)))"
   ]
  },
  {
   "cell_type": "markdown",
   "id": "2e2ac136-578a-494b-abde-ee33aefe0942",
   "metadata": {},
   "source": [
    "Commonly used with functions like ``sorted()``, ``max()``, ``min()``, ``map()``, ``filter()``, ``reduce()``.\n",
    "\n",
    "This works well when we have collections of data."
   ]
  },
  {
   "cell_type": "code",
   "execution_count": 22,
   "id": "3a207297-5aa7-40ba-a9a3-4bec418fc6dd",
   "metadata": {
    "tags": []
   },
   "outputs": [],
   "source": [
    "import csv\n",
    "from pathlib import Path"
   ]
  },
  {
   "cell_type": "code",
   "execution_count": 23,
   "id": "ba164cd7-e992-4e95-98c9-157a688eec50",
   "metadata": {
    "tags": []
   },
   "outputs": [],
   "source": [
    "source = Path(\"series_2.csv\")\n",
    "with source.open() as source_file:\n",
    "    reader = csv.DictReader(source_file)\n",
    "    data = list(reader)"
   ]
  },
  {
   "cell_type": "code",
   "execution_count": 24,
   "id": "b5a84857-1809-46e3-906e-ee6097864a89",
   "metadata": {},
   "outputs": [
    {
     "data": {
      "text/plain": [
       "[{'x': '10.0', 'y': '9.14'},\n",
       " {'x': '8.0', 'y': '8.14'},\n",
       " {'x': '13.0', 'y': '8.74'},\n",
       " {'x': '9.0', 'y': '8.77'},\n",
       " {'x': '11.0', 'y': '9.26'},\n",
       " {'x': '14.0', 'y': '8.10'},\n",
       " {'x': '6.0', 'y': '6.13'},\n",
       " {'x': '4.0', 'y': '3.10'},\n",
       " {'x': '12.0', 'y': '9.13'},\n",
       " {'x': '7.0', 'y': '7.26'},\n",
       " {'x': '5.0', 'y': '4.74'}]"
      ]
     },
     "execution_count": 24,
     "metadata": {},
     "output_type": "execute_result"
    }
   ],
   "source": [
    "data"
   ]
  },
  {
   "cell_type": "code",
   "execution_count": 25,
   "id": "f99574ae-ee57-46f7-afed-0ef4261bc4ff",
   "metadata": {},
   "outputs": [],
   "source": [
    "ascending_y = sorted(data, key=lambda row: float(row['y']))"
   ]
  },
  {
   "cell_type": "code",
   "execution_count": 26,
   "id": "9865ead8-d12e-47f1-a0c0-5fa0d44e0209",
   "metadata": {},
   "outputs": [
    {
     "data": {
      "text/plain": [
       "[{'x': '4.0', 'y': '3.10'},\n",
       " {'x': '5.0', 'y': '4.74'},\n",
       " {'x': '6.0', 'y': '6.13'},\n",
       " {'x': '7.0', 'y': '7.26'},\n",
       " {'x': '14.0', 'y': '8.10'},\n",
       " {'x': '8.0', 'y': '8.14'},\n",
       " {'x': '13.0', 'y': '8.74'},\n",
       " {'x': '9.0', 'y': '8.77'},\n",
       " {'x': '12.0', 'y': '9.13'},\n",
       " {'x': '10.0', 'y': '9.14'},\n",
       " {'x': '11.0', 'y': '9.26'}]"
      ]
     },
     "execution_count": 26,
     "metadata": {},
     "output_type": "execute_result"
    }
   ],
   "source": [
    "ascending_y"
   ]
  },
  {
   "cell_type": "code",
   "execution_count": 27,
   "id": "43ac8ada-426f-4838-8347-534041f6187e",
   "metadata": {},
   "outputs": [],
   "source": [
    "ascending_diff = sorted(data, key=lambda row: abs(float(row['y'])-float(row['x'])))"
   ]
  },
  {
   "cell_type": "code",
   "execution_count": 28,
   "id": "eaf93466-8da8-45dc-94d7-cd1996041d5e",
   "metadata": {},
   "outputs": [
    {
     "data": {
      "text/plain": [
       "[{'x': '6.0', 'y': '6.13'},\n",
       " {'x': '8.0', 'y': '8.14'},\n",
       " {'x': '9.0', 'y': '8.77'},\n",
       " {'x': '7.0', 'y': '7.26'},\n",
       " {'x': '5.0', 'y': '4.74'},\n",
       " {'x': '10.0', 'y': '9.14'},\n",
       " {'x': '4.0', 'y': '3.10'},\n",
       " {'x': '11.0', 'y': '9.26'},\n",
       " {'x': '12.0', 'y': '9.13'},\n",
       " {'x': '13.0', 'y': '8.74'},\n",
       " {'x': '14.0', 'y': '8.10'}]"
      ]
     },
     "execution_count": 28,
     "metadata": {},
     "output_type": "execute_result"
    }
   ],
   "source": [
    "ascending_diff"
   ]
  },
  {
   "cell_type": "code",
   "execution_count": 29,
   "id": "c5fc6e33-370c-408d-b10d-32212a6fbbeb",
   "metadata": {},
   "outputs": [
    {
     "data": {
      "text/plain": [
       "{'x': '14.0', 'y': '8.10'}"
      ]
     },
     "execution_count": 29,
     "metadata": {},
     "output_type": "execute_result"
    }
   ],
   "source": [
    "max(data, key=lambda row: float(row['x']))"
   ]
  },
  {
   "cell_type": "markdown",
   "id": "ea5b83e6-f6c6-4b74-ab07-0ddd7488e4e7",
   "metadata": {},
   "source": [
    "## Map, Filter, and Reduce\n",
    "\n",
    "Two built-in functions and a library function."
   ]
  },
  {
   "cell_type": "code",
   "execution_count": 30,
   "id": "14f2b2b2-4080-4135-b04c-18055194e5a0",
   "metadata": {},
   "outputs": [
    {
     "data": {
      "text/plain": [
       "<map at 0x7fdac0f93490>"
      ]
     },
     "execution_count": 30,
     "metadata": {},
     "output_type": "execute_result"
    }
   ],
   "source": [
    "map(\n",
    "    lambda row: {\"x\": float(row[\"x\"]), \"y\": float(row[\"y\"])}, \n",
    "    data\n",
    ")"
   ]
  },
  {
   "cell_type": "markdown",
   "id": "3cace9fc-8f49-425f-8644-d2ec1b90e945",
   "metadata": {},
   "source": [
    "This is a teaser for a future section. A `map()` is a generator object from which we can built a list."
   ]
  },
  {
   "cell_type": "code",
   "execution_count": 31,
   "id": "2a59b02c-12da-4471-b930-d9f194357583",
   "metadata": {},
   "outputs": [
    {
     "data": {
      "text/plain": [
       "[{'x': 10.0, 'y': 9.14},\n",
       " {'x': 8.0, 'y': 8.14},\n",
       " {'x': 13.0, 'y': 8.74},\n",
       " {'x': 9.0, 'y': 8.77},\n",
       " {'x': 11.0, 'y': 9.26},\n",
       " {'x': 14.0, 'y': 8.1},\n",
       " {'x': 6.0, 'y': 6.13},\n",
       " {'x': 4.0, 'y': 3.1},\n",
       " {'x': 12.0, 'y': 9.13},\n",
       " {'x': 7.0, 'y': 7.26},\n",
       " {'x': 5.0, 'y': 4.74}]"
      ]
     },
     "execution_count": 31,
     "metadata": {},
     "output_type": "execute_result"
    }
   ],
   "source": [
    "list(\n",
    "    map(\n",
    "        lambda row: {\"x\": float(row[\"x\"]), \"y\": float(row[\"y\"])}, \n",
    "        data\n",
    "    )\n",
    ")"
   ]
  },
  {
   "cell_type": "markdown",
   "id": "57e7b96f-9c59-4500-9541-d878ad316b72",
   "metadata": {},
   "source": [
    "Lambdas are designed to make it easy to work with higher-order functions.\n",
    "\n",
    "They save us from having to write a one-time-only function definition when the function is a single expression."
   ]
  },
  {
   "cell_type": "code",
   "execution_count": 32,
   "id": "93c8a86f-9c63-401e-abe2-9e3bd6988371",
   "metadata": {},
   "outputs": [
    {
     "data": {
      "text/plain": [
       "[{'x': '13.0', 'y': '8.74'},\n",
       " {'x': '11.0', 'y': '9.26'},\n",
       " {'x': '14.0', 'y': '8.10'},\n",
       " {'x': '12.0', 'y': '9.13'}]"
      ]
     },
     "execution_count": 32,
     "metadata": {},
     "output_type": "execute_result"
    }
   ],
   "source": [
    "list(\n",
    "    filter(\n",
    "        lambda row: float(row[\"x\"]) > 10, \n",
    "        data\n",
    "    )\n",
    ")"
   ]
  },
  {
   "cell_type": "code",
   "execution_count": 33,
   "id": "7d4de777-d4b0-4ae9-87c1-b5eec7647a7b",
   "metadata": {},
   "outputs": [],
   "source": [
    "from functools import reduce"
   ]
  },
  {
   "cell_type": "code",
   "execution_count": 34,
   "id": "7e3bd0db-2003-432b-bae7-116a26f8a955",
   "metadata": {},
   "outputs": [
    {
     "data": {
      "text/plain": [
       "99.0"
      ]
     },
     "execution_count": 34,
     "metadata": {},
     "output_type": "execute_result"
    }
   ],
   "source": [
    "total_x = reduce(lambda total, row: float(row[\"x\"]) + total, data, 0)\n",
    "total_x"
   ]
  },
  {
   "cell_type": "code",
   "execution_count": 35,
   "id": "63d88dbb-54dc-4386-830b-db093ed210e2",
   "metadata": {},
   "outputs": [
    {
     "data": {
      "text/plain": [
       "82.51"
      ]
     },
     "execution_count": 35,
     "metadata": {},
     "output_type": "execute_result"
    }
   ],
   "source": [
    "total_y = reduce(lambda total, row: float(row[\"y\"]) + total, data, 0)\n",
    "total_y"
   ]
  },
  {
   "cell_type": "markdown",
   "id": "1c12f81c-ee2c-4acd-9e81-f179b99f2fe0",
   "metadata": {},
   "source": [
    "And yes, this is the built-in ``sum()`` function.\n",
    "\n",
    "Want to build your pwn ``prod()`` function?  It's a reduce using multiply."
   ]
  },
  {
   "cell_type": "code",
   "execution_count": 36,
   "id": "155db4b7-2295-4f50-9125-c8dd84447846",
   "metadata": {},
   "outputs": [],
   "source": [
    "def prod(*args: float) -> float:\n",
    "    return reduce(lambda a, b: a*b, args, 1)"
   ]
  },
  {
   "cell_type": "code",
   "execution_count": 37,
   "id": "e0935b91-a2d2-4268-b134-0f40cb6f10db",
   "metadata": {},
   "outputs": [],
   "source": [
    "def factorial(n: int) -> int:\n",
    "    return prod(*range(1, n+1))"
   ]
  },
  {
   "cell_type": "code",
   "execution_count": 38,
   "id": "0ca1bcd9-7bda-41e2-bcf2-7087284514f8",
   "metadata": {},
   "outputs": [
    {
     "data": {
      "text/plain": [
       "True"
      ]
     },
     "execution_count": 38,
     "metadata": {},
     "output_type": "execute_result"
    }
   ],
   "source": [
    "factorial(5) == 5*4*3*2*1"
   ]
  },
  {
   "cell_type": "markdown",
   "id": "73e3def3-0d18-40e1-8f50-57c67ea37b14",
   "metadata": {},
   "source": [
    "Built-in logical functions ``all()`` and ``any()`` can be viewed as if they're something like ``reduce(lambda a, b: a and b, ...)`` and ``reduce(lambda a, b: a or b, ...)``. \n",
    "\n",
    "They're actually slightly smarter than a simple reduction. They short-circuit and stop evaluating when the answer is known. "
   ]
  },
  {
   "cell_type": "markdown",
   "id": "fdf7d736-ef84-45f0-867c-cfe6f0efd357",
   "metadata": {},
   "source": [
    "## Sketchy, but valid\n",
    "\n",
    "You can assign lambdas to variables."
   ]
  },
  {
   "cell_type": "code",
   "execution_count": 39,
   "id": "d08e600a-c5a6-458a-a74e-918e59e677da",
   "metadata": {},
   "outputs": [],
   "source": [
    "transform_4a = lambda n: n*0.7142"
   ]
  },
  {
   "cell_type": "code",
   "execution_count": 40,
   "id": "d687d884-5de3-4595-89bf-731bbf9a8fc4",
   "metadata": {},
   "outputs": [
    {
     "data": {
      "text/plain": [
       "785.6199999999999"
      ]
     },
     "execution_count": 40,
     "metadata": {},
     "output_type": "execute_result"
    }
   ],
   "source": [
    "transform_4a(1100)"
   ]
  },
  {
   "cell_type": "markdown",
   "id": "a3a203af-7589-4ac0-9634-ee9ff8304d8f",
   "metadata": {},
   "source": [
    "The debate on assigning lambdas to variables:\n",
    "\n",
    "- It's simple. When you only have one expression, why write out the whole ``def`` thing?\n",
    "\n",
    "- It's too simple. You can't write a docstring to provide useful documentation.\n",
    "\n",
    "I haven't emphasized docstrings. Here's an example of how we might describe a function. Note the use of the ``>>>`` prompt example. This can be validated by the **doctest** tool.\n",
    "\n",
    "Jupyter Notebook uses iPython which has a different prompt, ``[n]:``, which more clearly shows the history of your interactions with the interpreter. \n",
    "\n",
    "Doctest uses native Python prompt of ``>>>`` (and ``...`` for statements that have multiple logical lines.)"
   ]
  },
  {
   "cell_type": "code",
   "execution_count": 41,
   "id": "798827d8-9f28-47b8-a982-9d032a866d5b",
   "metadata": {},
   "outputs": [],
   "source": [
    "def transform_4b(n: float) -> float:\n",
    "    \"\"\"\n",
    "    Transforms tachometer readinds to actual engine RPM's. \n",
    "    From this we can estimate horsepower and fuel consumption.\n",
    "    \n",
    "    :param n: tachometer reading\n",
    "    :returns: estimated engine RPM's\n",
    "    \n",
    "    >>> round(transform_4b(1100), -1)\n",
    "    790.0\n",
    "    \"\"\"\n",
    "    return n * 0.7142"
   ]
  },
  {
   "cell_type": "code",
   "execution_count": 42,
   "id": "cb3d4cd8-d48b-42de-8236-2ca34cc993d8",
   "metadata": {},
   "outputs": [
    {
     "data": {
      "text/plain": [
       "790.0"
      ]
     },
     "execution_count": 42,
     "metadata": {},
     "output_type": "execute_result"
    }
   ],
   "source": [
    "round(transform_4b(1100), -1)"
   ]
  },
  {
   "cell_type": "markdown",
   "id": "0bb16ddd-846f-4bea-b5b9-10e75aa98658",
   "metadata": {},
   "source": [
    "## 5. Callable Objects\n",
    "\n",
    "We'll do some remedial object-oriented programming as a kind of side-bar before creating callable objects.\n",
    "\n",
    "Note the ``__init__()`` special method.   We produce the double-underscore \"dunder\". As in \"dunder init\" when talking about the code.\n",
    "\n",
    "This is called implicitly as part of object creation. After the new, empty object is built, the ``__init__()`` method is called to create the initial state.\n",
    "\n",
    "In this case, the initial state is to create the ``data`` attribute in the object's namespace. The object is provided as the ``self`` attribute to each method."
   ]
  },
  {
   "cell_type": "code",
   "execution_count": 43,
   "id": "2cf89ead-16dd-496e-b879-322e4bbbce8a",
   "metadata": {},
   "outputs": [],
   "source": [
    "class Totaller:\n",
    "    def __init__(self, data: dict[str, str]) -> None:\n",
    "        self.data = list(\n",
    "            map(\n",
    "                lambda row: {\"x\": float(row[\"x\"]), \"y\": float(row[\"y\"])}, \n",
    "                data\n",
    "            )\n",
    "        )\n",
    "        \n",
    "    def sum(self, name: str) -> float:\n",
    "        return sum(row[name] for row in self.data)\n",
    "    \n",
    "    def sum_2(self, name: str) -> float:\n",
    "        return sum(row[name]**2 for row in self.data)"
   ]
  },
  {
   "cell_type": "markdown",
   "id": "bd5c245d-16ac-44e9-9627-673ae5251f27",
   "metadata": {},
   "source": [
    "We can create an instance of the object. Since the ``__init__()`` requires the ``data`` parameter, we must provide the value when initializing.\n",
    "\n",
    "As with many of the examples, I've include type annotations. They're optional in Python. Juypter Lab doesn't check them. A tool called **mypy** can be used to check them."
   ]
  },
  {
   "cell_type": "code",
   "execution_count": 44,
   "id": "6ed127f4-116a-41f7-a14d-86322e27210b",
   "metadata": {},
   "outputs": [],
   "source": [
    "t = Totaller(data)"
   ]
  },
  {
   "cell_type": "code",
   "execution_count": 45,
   "id": "a15277e4-907f-431f-882f-52efc1b2ef19",
   "metadata": {},
   "outputs": [
    {
     "data": {
      "text/plain": [
       "99.0"
      ]
     },
     "execution_count": 45,
     "metadata": {},
     "output_type": "execute_result"
    }
   ],
   "source": [
    "t.sum(\"x\")"
   ]
  },
  {
   "cell_type": "code",
   "execution_count": 46,
   "id": "c81393eb-1479-437d-bf9d-27508d0eded3",
   "metadata": {},
   "outputs": [
    {
     "data": {
      "text/plain": [
       "82.51"
      ]
     },
     "execution_count": 46,
     "metadata": {},
     "output_type": "execute_result"
    }
   ],
   "source": [
    "t.sum(\"y\")"
   ]
  },
  {
   "cell_type": "markdown",
   "id": "b011ac9f-ff9e-4d13-933f-b107c7124406",
   "metadata": {},
   "source": [
    "## What's a \"callable object?\"\n",
    "\n",
    "A class with a ``__call__()`` special method.\n",
    "\n",
    "(Seems absurdly simple, but Python is designed to be simple.)\n",
    "\n",
    "We call the presence of a particular method, like ``__call__()`` a \"protocol\".  We say that a class with ``__call__()`` follows the Callable protocol."
   ]
  },
  {
   "cell_type": "code",
   "execution_count": 47,
   "id": "48cec9d7-e785-43c9-8ca2-3a4d50ee4d14",
   "metadata": {},
   "outputs": [],
   "source": [
    "class Transformer:\n",
    "    def __call__(self, n: float) -> float:\n",
    "        return n*0.7142\n",
    "    \n",
    "transform_5a = Transformer()"
   ]
  },
  {
   "cell_type": "code",
   "execution_count": 48,
   "id": "29265a1a-aed6-47c0-b9f3-79c8e343fef6",
   "metadata": {},
   "outputs": [
    {
     "data": {
      "text/plain": [
       "790.0"
      ]
     },
     "execution_count": 48,
     "metadata": {},
     "output_type": "execute_result"
    }
   ],
   "source": [
    "round(transform_5a(1100), -1)"
   ]
  },
  {
   "cell_type": "markdown",
   "id": "9d9f52f1-041c-44e0-8474-a1cb33b86b1d",
   "metadata": {},
   "source": [
    "## Why create a callable object?\n",
    "\n",
    "This example wraps a simple expression into a method of an object. That seems like a lot of machinery for a multiplication and a constant.\n",
    "\n",
    "We might want to do this so we can leverage other aspects of object construction, like initialization to provide default values."
   ]
  },
  {
   "cell_type": "code",
   "execution_count": 51,
   "id": "8a73978d-5e63-405d-a058-f4c6f9ce7ef3",
   "metadata": {},
   "outputs": [],
   "source": [
    "from typing import Optional"
   ]
  },
  {
   "cell_type": "code",
   "execution_count": 49,
   "id": "74ad6f5f-4641-426c-8e91-db6f542c2dad",
   "metadata": {},
   "outputs": [],
   "source": [
    "class Transformer_B:\n",
    "    FACTOR = 0.7142\n",
    "    def __init__(self, factor: Optional[float] = None) -> None:\n",
    "        self.factor = self.FACTOR if factor is None else factor \n",
    "    def __call__(self, n: float) -> float:\n",
    "        return n*self.factor\n",
    "    \n",
    "transform_5b = Transformer_B()"
   ]
  },
  {
   "cell_type": "code",
   "execution_count": 50,
   "id": "f0ad107d-bcef-49a3-90d5-715a936c6589",
   "metadata": {},
   "outputs": [
    {
     "data": {
      "text/plain": [
       "790.0"
      ]
     },
     "execution_count": 50,
     "metadata": {},
     "output_type": "execute_result"
    }
   ],
   "source": [
    "round(transform_5b(1100), -1)"
   ]
  },
  {
   "cell_type": "code",
   "execution_count": 52,
   "id": "17792a7b-ee54-4110-90f0-35c81649d5db",
   "metadata": {},
   "outputs": [
    {
     "data": {
      "text/plain": [
       "880.0"
      ]
     },
     "execution_count": 52,
     "metadata": {},
     "output_type": "execute_result"
    }
   ],
   "source": [
    "transform_5b_x = Transformer_B(0.80)\n",
    "round(transform_5b_x(1100), -1)"
   ]
  },
  {
   "cell_type": "markdown",
   "id": "8401e8dc-a814-42a9-a480-917f15e37b9e",
   "metadata": {},
   "source": [
    "There's a lot going on in this simple class. A class-level variable, ``FACTOR`` shared by all instances of the class.\n",
    "\n",
    "The ``__init__()`` has an optional value where the default is the special ``None`` value.\n",
    "\n",
    "We can test for an omitted argument value with the expression ``factor is None``. (We don't use ``is`` for much, but we **always** use it when comparing against the ``None`` object.)\n",
    "\n",
    "An instance of the class will have a state defined by the ``factor`` attribute that we can inspect."
   ]
  },
  {
   "cell_type": "code",
   "execution_count": 53,
   "id": "9b65499b-6eb4-4dd4-b1db-214ad7538a5f",
   "metadata": {},
   "outputs": [
    {
     "data": {
      "text/plain": [
       "0.7142"
      ]
     },
     "execution_count": 53,
     "metadata": {},
     "output_type": "execute_result"
    }
   ],
   "source": [
    "transform_5b.factor"
   ]
  },
  {
   "cell_type": "code",
   "execution_count": 54,
   "id": "fc5f2bfb-202e-44bd-8d9b-88480cb4ee4c",
   "metadata": {},
   "outputs": [
    {
     "data": {
      "text/plain": [
       "0.8"
      ]
     },
     "execution_count": 54,
     "metadata": {},
     "output_type": "execute_result"
    }
   ],
   "source": [
    "transform_5b_x.factor"
   ]
  },
  {
   "cell_type": "markdown",
   "id": "bae06a8f-12ef-49fd-a0de-26505af4b4ba",
   "metadata": {},
   "source": [
    "## Why Not A Function?\n",
    "\n",
    "Three reasons:\n",
    "\n",
    "-  We use callable objects when a function is too simple. \n",
    "   For example: a **very** complex computation. We can encapsulate the whole computation as methods within a single class definition.\n",
    "\n",
    "-  We use callable objects to break the rule of idempotency. Normally, a function returns the same result when called with the same arguments. Counter examples of this are random number generators and registries (like the loggers or codecs.)\n",
    "\n",
    "-  Caching"
   ]
  },
  {
   "cell_type": "code",
   "execution_count": 64,
   "id": "109a3b93-c51d-4c96-a095-7602d5e54ca5",
   "metadata": {},
   "outputs": [],
   "source": [
    "from random import Random\n",
    "class D6(Random):\n",
    "    def __call__(self):\n",
    "        return self.randint(1, 6)\n",
    "d6 = D6()"
   ]
  },
  {
   "cell_type": "code",
   "execution_count": 66,
   "id": "51a27d0b-bbcf-41ae-8269-1efae3fd9327",
   "metadata": {},
   "outputs": [
    {
     "data": {
      "text/plain": [
       "[4, 4, 6, 2, 1, 2, 6, 5, 1, 6]"
      ]
     },
     "execution_count": 66,
     "metadata": {},
     "output_type": "execute_result"
    }
   ],
   "source": [
    "[d6() for _ in range(10)]"
   ]
  },
  {
   "cell_type": "markdown",
   "id": "852a8f0f-a8dc-477d-985b-cd7550047a32",
   "metadata": {},
   "source": [
    "Different results from ``d6()`` because it's a callable object and can have an internal state."
   ]
  },
  {
   "cell_type": "markdown",
   "id": "dce5feb0-62cb-4118-82d6-a34f900c9b63",
   "metadata": {},
   "source": [
    "## Caching\n",
    "\n",
    "A cache means the object is stateful -- the cache evolves.\n",
    "\n",
    "It's still idepotent, though, if we do things properly."
   ]
  },
  {
   "cell_type": "code",
   "execution_count": 67,
   "id": "c08bbb67-22c0-4eb2-b056-32140a7e9738",
   "metadata": {},
   "outputs": [],
   "source": [
    "class Transformer_C:\n",
    "    FACTOR = 0.7142\n",
    "    def __init__(self) -> None:\n",
    "        self.cache = {}\n",
    "    def __call__(self, n: float) -> float:\n",
    "        if n not in self.cache:\n",
    "            self.cache[n] = self.transform(n)\n",
    "        return self.cache[n]\n",
    "    def transform(self, n: float) -> float:\n",
    "        return n * self.FACTOR\n",
    "    \n",
    "transform_5c = Transformer_C()"
   ]
  },
  {
   "cell_type": "code",
   "execution_count": 68,
   "id": "b97f3b65-5415-41c8-b279-4464d8739d9b",
   "metadata": {},
   "outputs": [
    {
     "data": {
      "text/plain": [
       "790.0"
      ]
     },
     "execution_count": 68,
     "metadata": {},
     "output_type": "execute_result"
    }
   ],
   "source": [
    "round(transform_5c(1100), -1)"
   ]
  },
  {
   "cell_type": "markdown",
   "id": "c2dd98bf-c9e7-480b-9f86-a8b31a143641",
   "metadata": {},
   "source": [
    "With a ``transform()`` method so simple, the effect of caching is hard to measure. \n",
    "\n",
    "If the body of ``transform()`` were a **lot** more complex, though, you'd see some impact.\n",
    "Let's add some fake workload."
   ]
  },
  {
   "cell_type": "code",
   "execution_count": 77,
   "id": "5121397f-ad0c-4398-92bb-784969bb1412",
   "metadata": {},
   "outputs": [],
   "source": [
    "import time\n",
    "class Transformer_D:\n",
    "    FACTOR = 0.7142\n",
    "    def __init__(self) -> None:\n",
    "        self.cache = {}\n",
    "    def __call__(self, n: float) -> float:\n",
    "        if n not in self.cache:\n",
    "            self.cache[n] = self.transform(n)\n",
    "        return self.cache[n]\n",
    "    def transform(self, n: float) -> float:\n",
    "        time.sleep(1)  # Mocking a LOT of work here.\n",
    "        return n * self.FACTOR\n",
    "    \n",
    "transform_5d = Transformer_D()"
   ]
  },
  {
   "cell_type": "code",
   "execution_count": 78,
   "id": "5c113902-7650-4091-be98-4224baf0950b",
   "metadata": {},
   "outputs": [
    {
     "name": "stdout",
     "output_type": "stream",
     "text": [
      "CPU times: user 634 µs, sys: 1.01 ms, total: 1.65 ms\n",
      "Wall time: 1 s\n"
     ]
    },
    {
     "data": {
      "text/plain": [
       "785.6199999999999"
      ]
     },
     "execution_count": 78,
     "metadata": {},
     "output_type": "execute_result"
    }
   ],
   "source": [
    "%%time\n",
    "transform_5d(1100)"
   ]
  },
  {
   "cell_type": "code",
   "execution_count": 79,
   "id": "bb0cdb42-121c-45f8-b127-5fc2253d4129",
   "metadata": {},
   "outputs": [
    {
     "name": "stdout",
     "output_type": "stream",
     "text": [
      "CPU times: user 4 µs, sys: 0 ns, total: 4 µs\n",
      "Wall time: 5.96 µs\n"
     ]
    },
    {
     "data": {
      "text/plain": [
       "785.6199999999999"
      ]
     },
     "execution_count": 79,
     "metadata": {},
     "output_type": "execute_result"
    }
   ],
   "source": [
    "%%time\n",
    "transform_5d(1100)"
   ]
  },
  {
   "cell_type": "markdown",
   "id": "c6922803-5efb-4c52-9ac4-adda8fc24995",
   "metadata": {},
   "source": [
    "## Cache Complication\n",
    "\n",
    "This design suffers from a serious problem.\n",
    "\n",
    "``n`` is float.\n",
    "\n",
    "Back in section 2, I pointed out that float is **not** a good candidate for exact match retrieval. Computed values may differ by tiny, tiny amounts, and we can wind up with a cache full of nearly equal values.\n",
    "\n",
    "Dictionary lookups rely on a two-step comparison.\n",
    "\n",
    "- Hash must be the same. There's a built-in function, ``hash()`` which does this. This is a wrapper for the ``__hash__()`` special method.\n",
    "\n",
    "- Values must be equal. This uses the ``__eq__()`` special method."
   ]
  },
  {
   "cell_type": "code",
   "execution_count": 115,
   "id": "aa737a5b-995b-4831-9ac7-777bb66d0948",
   "metadata": {},
   "outputs": [],
   "source": [
    "a = ((100 + 0.001) - 99.0 - 0.001) * 1100\n",
    "b = ((100 + 0.003) - 99.0 - 0.003) * 1100"
   ]
  },
  {
   "cell_type": "code",
   "execution_count": 116,
   "id": "01e1df83-d762-4d55-ab0c-966cc8f9d66c",
   "metadata": {},
   "outputs": [
    {
     "data": {
      "text/plain": [
       "False"
      ]
     },
     "execution_count": 116,
     "metadata": {},
     "output_type": "execute_result"
    }
   ],
   "source": [
    "a == b"
   ]
  },
  {
   "cell_type": "code",
   "execution_count": 117,
   "id": "57130c8a-e9d5-411d-81b9-2638a46e0453",
   "metadata": {},
   "outputs": [
    {
     "data": {
      "text/plain": [
       "(1100.0000000000055, 1100.0000000000002)"
      ]
     },
     "execution_count": 117,
     "metadata": {},
     "output_type": "execute_result"
    }
   ],
   "source": [
    "a, b"
   ]
  },
  {
   "cell_type": "code",
   "execution_count": 118,
   "id": "aa634b80-3a53-4d7e-8e6c-c7e47f10a500",
   "metadata": {},
   "outputs": [
    {
     "data": {
      "text/plain": [
       "True"
      ]
     },
     "execution_count": 118,
     "metadata": {},
     "output_type": "execute_result"
    }
   ],
   "source": [
    "from math import isclose\n",
    "isclose(a, b, abs_tol = 1E-14)"
   ]
  },
  {
   "cell_type": "code",
   "execution_count": 146,
   "id": "28422963-854d-4e45-ad4e-0ed920875ade",
   "metadata": {},
   "outputs": [
    {
     "data": {
      "text/plain": [
       "(12584012, 525388)"
      ]
     },
     "execution_count": 146,
     "metadata": {},
     "output_type": "execute_result"
    }
   ],
   "source": [
    "hash(a), hash(b)"
   ]
  },
  {
   "cell_type": "markdown",
   "id": "edbacfaf-06a7-4e45-9901-2ccab716a300",
   "metadata": {},
   "source": [
    "We can't use a simple dictionary lookup. But. We have a bunch of choices. Here are two:\n",
    "\n",
    "1. Use a tree search with ``isclose()`` instead of a simple dictionary.\n",
    "\n",
    "2. Change the dictionary's key-matching rules.  These are implemented by ``__contains__()``, and ``__getitem__()`` special methods.  You can read about it in the ``collections.abc`` module. And yes, extending built-in classes to add new behavior is solid Python. A bit too advanced for this course, though.\n",
    "\n",
    "3. Consider converting the RPM value from ``float`` to ``int`` (or ``fraction``). We can then suppress \"noise\" bits in the ``float`` approximation.\n",
    "\n",
    "A binary tree search is in the ``bisect`` module. This maintains a cache in sorted order."
   ]
  },
  {
   "cell_type": "code",
   "execution_count": 97,
   "id": "3c88100d-2f9b-4853-9c1a-14064e2a8f8e",
   "metadata": {},
   "outputs": [],
   "source": [
    "import bisect"
   ]
  },
  {
   "cell_type": "code",
   "execution_count": 140,
   "id": "a44b9240-a6c1-4327-9824-fa336d2fe5ce",
   "metadata": {},
   "outputs": [],
   "source": [
    "class Transformer_E:\n",
    "    FACTOR = 0.7142\n",
    "    def __init__(self) -> None:\n",
    "        self.keys: list[float] = [] \n",
    "        self.values: list[float] = []\n",
    "        \n",
    "    def __call__(self, n: float) -> float:\n",
    "        index = bisect.bisect(self.keys, n)\n",
    "        # Is it in the cache?\n",
    "        try:\n",
    "            cached_n = self.keys[index-1]\n",
    "            result = self.values[index-1]\n",
    "        except IndexError:\n",
    "            # Special case -- cache is empty and index is invalid.\n",
    "            cached_n = None\n",
    "            result = None\n",
    "        if cached_n is None or not isclose(cached_n, n, abs_tol=1E-5):\n",
    "            # Not in the cache or cache is empty.\n",
    "            result = self.transform(n)\n",
    "            # Insert it into the cache, maintaining sort order.\n",
    "            self.keys.insert(index, n)\n",
    "            self.values.insert(index, result)\n",
    "        return result\n",
    "    \n",
    "    def transform(self, n: float) -> float:\n",
    "        return n * self.FACTOR\n",
    "    \n",
    "transform_5e = Transformer_E()"
   ]
  },
  {
   "cell_type": "code",
   "execution_count": 141,
   "id": "0e8fcbce-8b62-4c97-80fb-3e938107927e",
   "metadata": {},
   "outputs": [
    {
     "data": {
      "text/plain": [
       "(1100.0000000000055, 1100.0000000000002)"
      ]
     },
     "execution_count": 141,
     "metadata": {},
     "output_type": "execute_result"
    }
   ],
   "source": [
    "a, b"
   ]
  },
  {
   "cell_type": "code",
   "execution_count": 142,
   "id": "ac95e77d-af36-4c9e-9913-04c934bcd1c4",
   "metadata": {},
   "outputs": [
    {
     "data": {
      "text/plain": [
       "False"
      ]
     },
     "execution_count": 142,
     "metadata": {},
     "output_type": "execute_result"
    }
   ],
   "source": [
    "a == b"
   ]
  },
  {
   "cell_type": "code",
   "execution_count": 143,
   "id": "1ab58885-c80b-4ea1-a162-c08bdc0ce7f0",
   "metadata": {},
   "outputs": [
    {
     "data": {
      "text/plain": [
       "785.6200000000039"
      ]
     },
     "execution_count": 143,
     "metadata": {},
     "output_type": "execute_result"
    }
   ],
   "source": [
    "transform_5e(a)"
   ]
  },
  {
   "cell_type": "code",
   "execution_count": 144,
   "id": "5ffff791-c97d-4290-9e29-0876857a87a0",
   "metadata": {},
   "outputs": [
    {
     "data": {
      "text/plain": [
       "785.6200000000039"
      ]
     },
     "execution_count": 144,
     "metadata": {},
     "output_type": "execute_result"
    }
   ],
   "source": [
    "transform_5e(b)"
   ]
  },
  {
   "cell_type": "code",
   "execution_count": 145,
   "id": "d00accae-448a-4463-85a4-b3d8b8f9b3e0",
   "metadata": {},
   "outputs": [
    {
     "data": {
      "text/plain": [
       "[1100.0000000000055]"
      ]
     },
     "execution_count": 145,
     "metadata": {},
     "output_type": "execute_result"
    }
   ],
   "source": [
    "transform_5e.keys"
   ]
  },
  {
   "cell_type": "markdown",
   "id": "3baf7764-e5ec-488a-be7c-f0463103c765",
   "metadata": {},
   "source": [
    "Turns out, there's still a hidden cost. The ``list.insert()`` method can get expensive when the list is very large. \n",
    "\n",
    "We might try rounding or truncating the RPM values to an integer."
   ]
  },
  {
   "cell_type": "markdown",
   "id": "c28dcf58-6dad-4f51-aa06-c7667a37b6aa",
   "metadata": {},
   "source": [
    "## Brief Review of callables\n",
    "\n",
    "1. Ordinary ``def`` functions.\n",
    "\n",
    "2. Higher-Order Functions. These have functions as parameters or return values. They're not fundamentally unique in Python.\n",
    "\n",
    "3. Function Wrappers (around methods). This is syntactic sugar so we don't have to use object methods all the time. ``len(x)`` seems better than ``x.len()`` for a special cases. Some more examples: ``str(x)``, ``repr(x)``, ``hash(x)``.\n",
    "\n",
    "4. Lambdas. Anonymous functions with a single expression. \n",
    "\n",
    "5. Callable Objects. Classes that follow the ``Callable`` protocol; i.e., have a ``__call__()`` method."
   ]
  },
  {
   "cell_type": "markdown",
   "id": "7cb3a67d-ddfd-4402-aa9e-5526b01d7ac6",
   "metadata": {},
   "source": [
    "## Why so many?\n",
    "\n",
    "Functions, Lambdas, callable objects are all slightly different in the features they offer.\n",
    "\n",
    "Functions are (generally) stateless. You can use the ``global`` statement to make a stateful function. Please don't.\n",
    "\n",
    "Lambdas are designed to be simpler than a function.\n",
    "\n",
    "The callable object is the most general set of features, able to do anything."
   ]
  },
  {
   "cell_type": "markdown",
   "id": "74b43579-1da9-4b0b-b556-18c47f877d61",
   "metadata": {},
   "source": [
    "## 6. Generator Functions and Yield\n",
    "\n",
    "This is the best part of Python. Seriously.\n",
    "\n",
    "Let's start with a \"comprehension\".  \n",
    "\n",
    "- List comprehension: generator in []'s\n",
    "\n",
    "- Set comprehension: generator in {}'s\n",
    "\n",
    "- Dictionary comprehension: a generator with :'s in {}'s"
   ]
  },
  {
   "cell_type": "code",
   "execution_count": 151,
   "id": "eb0f9b28-846a-4117-b728-bda1cb9bd947",
   "metadata": {},
   "outputs": [
    {
     "data": {
      "text/plain": [
       "[1, 3, 5, 7, 9, 11, 13, 15, 17, 19]"
      ]
     },
     "execution_count": 151,
     "metadata": {},
     "output_type": "execute_result"
    }
   ],
   "source": [
    "[2*x+1 for x in range(10)]"
   ]
  },
  {
   "cell_type": "code",
   "execution_count": 148,
   "id": "c8d39063-ba21-4c08-86a0-cdeec1f94ca6",
   "metadata": {},
   "outputs": [
    {
     "data": {
      "text/plain": [
       "{0, 1, 2}"
      ]
     },
     "execution_count": 148,
     "metadata": {},
     "output_type": "execute_result"
    }
   ],
   "source": [
    "{x % 3 for x in range(999)}"
   ]
  },
  {
   "cell_type": "code",
   "execution_count": 150,
   "id": "e8fea778-3b4c-4986-ab93-658989b77669",
   "metadata": {},
   "outputs": [
    {
     "data": {
      "text/plain": [
       "{0: '2*n+1=1',\n",
       " 1: '2*n+1=3',\n",
       " 2: '2*n+1=5',\n",
       " 3: '2*n+1=7',\n",
       " 4: '2*n+1=9',\n",
       " 5: '2*n+1=11',\n",
       " 6: '2*n+1=13',\n",
       " 7: '2*n+1=15',\n",
       " 8: '2*n+1=17',\n",
       " 9: '2*n+1=19'}"
      ]
     },
     "execution_count": 150,
     "metadata": {},
     "output_type": "execute_result"
    }
   ],
   "source": [
    "{n: f\"{2*n+1=}\" for n in range(10)}"
   ]
  },
  {
   "cell_type": "markdown",
   "id": "7a304e8e-398c-4e64-bb29-ed607d5ef4eb",
   "metadata": {},
   "source": [
    "Alternative forms:"
   ]
  },
  {
   "cell_type": "code",
   "execution_count": 152,
   "id": "54433edd-4e09-46de-aedf-4a384f7e9950",
   "metadata": {},
   "outputs": [
    {
     "data": {
      "text/plain": [
       "[1, 3, 5, 7, 9, 11, 13, 15, 17, 19]"
      ]
     },
     "execution_count": 152,
     "metadata": {},
     "output_type": "execute_result"
    }
   ],
   "source": [
    "list(2*x+1 for x in range(10))"
   ]
  },
  {
   "cell_type": "code",
   "execution_count": 153,
   "id": "a97f3a3f-0e4d-416b-988d-8748cbcc1da5",
   "metadata": {},
   "outputs": [
    {
     "data": {
      "text/plain": [
       "{0, 1, 2}"
      ]
     },
     "execution_count": 153,
     "metadata": {},
     "output_type": "execute_result"
    }
   ],
   "source": [
    "set(x % 3 for x in range(999)) "
   ]
  },
  {
   "cell_type": "code",
   "execution_count": 155,
   "id": "c97d876d-918b-485c-ba3c-3cb74eedad8e",
   "metadata": {},
   "outputs": [
    {
     "data": {
      "text/plain": [
       "{0: '2*n+1=1',\n",
       " 1: '2*n+1=3',\n",
       " 2: '2*n+1=5',\n",
       " 3: '2*n+1=7',\n",
       " 4: '2*n+1=9',\n",
       " 5: '2*n+1=11',\n",
       " 6: '2*n+1=13',\n",
       " 7: '2*n+1=15',\n",
       " 8: '2*n+1=17',\n",
       " 9: '2*n+1=19'}"
      ]
     },
     "execution_count": 155,
     "metadata": {},
     "output_type": "execute_result"
    }
   ],
   "source": [
    "dict( (n, f\"{2*n+1=}\") for n in range(10) )"
   ]
  },
  {
   "cell_type": "markdown",
   "id": "60bd6284-ae90-4444-a53d-0360d8c2ed34",
   "metadata": {},
   "source": [
    "Yes, the dictionary syntax had to change. We have to provide a sequence of tuples to the dict function because the ``k: v`` syntax is a special case and only works inside ``{}``'s."
   ]
  },
  {
   "cell_type": "markdown",
   "id": "9202a48d-347b-415e-be36-c4d4d436aeff",
   "metadata": {},
   "source": [
    "## Some formalities\n",
    "\n",
    "The classes, ``list``, ``set``, ``dict`` have initializer methods that work with the  type ``Iterable[Any]``. \n",
    "\n",
    "A list object, ``[1, 2, 3]``, is an ``Iterable[Any]``. \n",
    "\n",
    "The ``Iterable`` type is a protocol and it requires a method, ``__iter__()``, that will produce a sequence of values. \n",
    "\n",
    "The output of ``__iter__()`` is ``Iterator[Any]``. An iterator.\n",
    "    \n",
    "The generator expression ``x % 3 for x in range(999)`` is an ``Iterator[Any]``."
   ]
  },
  {
   "cell_type": "markdown",
   "id": "475590c6-819e-4fd4-befb-fb07431b3262",
   "metadata": {},
   "source": [
    "## Some More Examples\n",
    "\n",
    "range() is an iterator over values.\n",
    "\n",
    "map() and filter() require an iterable. They are iterators."
   ]
  },
  {
   "cell_type": "code",
   "execution_count": 156,
   "id": "522bb2c1-204a-430d-bdf6-3161d5ab6d39",
   "metadata": {},
   "outputs": [
    {
     "data": {
      "text/plain": [
       "[0, 1, 2, 3, 4, 5, 6, 7, 8, 9]"
      ]
     },
     "execution_count": 156,
     "metadata": {},
     "output_type": "execute_result"
    }
   ],
   "source": [
    "list(range(10))"
   ]
  },
  {
   "cell_type": "code",
   "execution_count": 158,
   "id": "169c2924-1cb0-47b7-82cc-9b8e34a02252",
   "metadata": {},
   "outputs": [
    {
     "data": {
      "text/plain": [
       "<map at 0x7fdac10908b0>"
      ]
     },
     "execution_count": 158,
     "metadata": {},
     "output_type": "execute_result"
    }
   ],
   "source": [
    "map(lambda n: 2*n+1, range(10))"
   ]
  },
  {
   "cell_type": "code",
   "execution_count": 159,
   "id": "54bf8d6d-6e07-4db4-9872-91a4f626182d",
   "metadata": {},
   "outputs": [
    {
     "data": {
      "text/plain": [
       "[1, 3, 5, 7, 9, 11, 13, 15, 17, 19]"
      ]
     },
     "execution_count": 159,
     "metadata": {},
     "output_type": "execute_result"
    }
   ],
   "source": [
    "list(\n",
    "    map(lambda n: 2*n+1, range(10))\n",
    ")"
   ]
  },
  {
   "cell_type": "code",
   "execution_count": 160,
   "id": "aa68463c-c361-48b2-99cc-93107b0fbd3a",
   "metadata": {},
   "outputs": [
    {
     "data": {
      "text/plain": [
       "[1, 3, 5, 7, 9, 11, 13, 15, 17, 19]"
      ]
     },
     "execution_count": 160,
     "metadata": {},
     "output_type": "execute_result"
    }
   ],
   "source": [
    "list(\n",
    "    2*n+1 for n in range(10)\n",
    ")"
   ]
  },
  {
   "cell_type": "markdown",
   "id": "7a682c16-5cdd-4b14-aba4-bd58092f73a0",
   "metadata": {},
   "source": [
    "This is always true:\n",
    "\n",
    "    map(f(x), D) == (f(x) for x in D)\n",
    "    \n",
    "They're identical by design. Some folks like ``map(f(x), D)``. Some folks like ``(f(x) for x in D)``."
   ]
  },
  {
   "cell_type": "markdown",
   "id": "3f3791de-b749-48c1-b4c9-ed925f0ad770",
   "metadata": {},
   "source": [
    "## Continuing this Example"
   ]
  },
  {
   "cell_type": "code",
   "execution_count": 163,
   "id": "275dec60-2fec-48af-99fa-fae95d7f9927",
   "metadata": {},
   "outputs": [],
   "source": [
    "from math import sqrt\n",
    "def prime(n: int) -> bool:\n",
    "    if n < 2: return False\n",
    "    if n == 2: return True\n",
    "    if n % 2 == 0: return False\n",
    "    for k in range(3, int(sqrt(n))+2, 2):\n",
    "        if n % k == 0: return False\n",
    "    return True"
   ]
  },
  {
   "cell_type": "code",
   "execution_count": 164,
   "id": "0b37ddbc-f7f4-418d-9b32-f2f8af0e3ec3",
   "metadata": {},
   "outputs": [
    {
     "data": {
      "text/plain": [
       "[2,\n",
       " 3,\n",
       " 5,\n",
       " 7,\n",
       " 11,\n",
       " 13,\n",
       " 17,\n",
       " 19,\n",
       " 23,\n",
       " 29,\n",
       " 31,\n",
       " 37,\n",
       " 41,\n",
       " 43,\n",
       " 47,\n",
       " 53,\n",
       " 59,\n",
       " 61,\n",
       " 67,\n",
       " 71,\n",
       " 73,\n",
       " 79,\n",
       " 83,\n",
       " 89,\n",
       " 97]"
      ]
     },
     "execution_count": 164,
     "metadata": {},
     "output_type": "execute_result"
    }
   ],
   "source": [
    "list(filter(lambda n: prime(n), range(100)))"
   ]
  },
  {
   "cell_type": "code",
   "execution_count": 165,
   "id": "8fe9ecfb-3558-4cc8-b2c4-0c5ce3f4fd5b",
   "metadata": {},
   "outputs": [
    {
     "data": {
      "text/plain": [
       "[2,\n",
       " 3,\n",
       " 5,\n",
       " 7,\n",
       " 11,\n",
       " 13,\n",
       " 17,\n",
       " 19,\n",
       " 23,\n",
       " 29,\n",
       " 31,\n",
       " 37,\n",
       " 41,\n",
       " 43,\n",
       " 47,\n",
       " 53,\n",
       " 59,\n",
       " 61,\n",
       " 67,\n",
       " 71,\n",
       " 73,\n",
       " 79,\n",
       " 83,\n",
       " 89,\n",
       " 97]"
      ]
     },
     "execution_count": 165,
     "metadata": {},
     "output_type": "execute_result"
    }
   ],
   "source": [
    "list(\n",
    "    n for n in range(100) if prime(n)\n",
    ")"
   ]
  },
  {
   "cell_type": "markdown",
   "id": "1d95da87-c003-4861-80ee-2b7b6275e5c4",
   "metadata": {},
   "source": [
    "This is always true:\n",
    "\n",
    "    filter(f(x), D) == (x for x in D if f(x))\n",
    "    \n",
    "They're identical by design. Some folks like ``filter(f(x), D)``. Some folks like ``(x for x in D if f(x))``."
   ]
  },
  {
   "cell_type": "markdown",
   "id": "b4e80a65-23f6-4a4c-b594-27dfc9ef2701",
   "metadata": {},
   "source": [
    "## The pattern is ``f(D: Iterable[T]) -> Iterator[T]:``\n",
    "\n",
    "It works like this.\n",
    "\n",
    "Use a ``for`` statement to consume the source domain of values.\n",
    "\n",
    "Use a ``yield`` statement to provide one value for the Iterator."
   ]
  },
  {
   "cell_type": "code",
   "execution_count": 174,
   "id": "a33a295e-01c1-4d78-b9f5-e0bc5a1519fb",
   "metadata": {},
   "outputs": [],
   "source": [
    "from typing import Iterator, Iterable\n",
    "\n",
    "def transform_6(values: Iterable[float]) -> Iterator[float]:\n",
    "    for v in values:\n",
    "        yield v*0.7142"
   ]
  },
  {
   "cell_type": "code",
   "execution_count": 175,
   "id": "d0e121b9-de11-4244-9a68-73e458ca968e",
   "metadata": {},
   "outputs": [
    {
     "data": {
      "text/plain": [
       "[785.6199999999999,\n",
       " 857.04,\n",
       " 928.4599999999999,\n",
       " 999.8799999999999,\n",
       " 1071.3,\n",
       " 1142.7199999999998,\n",
       " 1214.1399999999999,\n",
       " 1285.56,\n",
       " 1356.9799999999998]"
      ]
     },
     "execution_count": 175,
     "metadata": {},
     "output_type": "execute_result"
    }
   ],
   "source": [
    "list(transform_6(range(1100, 2000, 100)))"
   ]
  },
  {
   "cell_type": "markdown",
   "id": "d3bf642f-f93a-4490-b5d0-b4052422a2a2",
   "metadata": {},
   "source": [
    "Important:\n",
    "\n",
    "The iterable does not have to be a big data structure laying around in memory.\n",
    "\n",
    "It can be a source of data like a file, that's read one row at a time."
   ]
  },
  {
   "cell_type": "code",
   "execution_count": 176,
   "id": "a391b5af-7f86-4e73-9822-dc701cc8321f",
   "metadata": {},
   "outputs": [],
   "source": [
    "from csv import DictReader\n",
    "from pathlib import Path"
   ]
  },
  {
   "cell_type": "code",
   "execution_count": 178,
   "id": "e4405147-ddec-4676-bfe4-fdb135ab6265",
   "metadata": {},
   "outputs": [
    {
     "name": "stdout",
     "output_type": "stream",
     "text": [
      "714.1999999999999\n",
      "1071.3\n",
      "1071.3\n",
      "1142.7199999999998\n",
      "1249.85\n",
      "1428.3999999999999\n",
      "1428.3999999999999\n"
     ]
    }
   ],
   "source": [
    "source_path = Path(\"engine.csv\")\n",
    "with source_path.open() as source_file:\n",
    "    reader = DictReader(source_file)\n",
    "    tach_readings = (float(row[\"Tach\"]) for row in reader)\n",
    "    for result in transform_6(tach_readings):\n",
    "        print(result)"
   ]
  },
  {
   "cell_type": "markdown",
   "id": "84f6df63-9962-4116-a4cc-8be74b44eb01",
   "metadata": {},
   "source": [
    "Let's work through this carefully.\n",
    "\n",
    "We create a ``DictReader``. This is an iterable of ``dict[str, str]`` -- each dictionary is a row from the CSV file.\n",
    "\n",
    "``tach_readings`` is a generator expression over the rows in the reader.  It performs a computation on each row.\n",
    "Input is ``Iterable[dict[str, str]]``. Output is ``Iterator[float]``.\n",
    "\n",
    "``transform_6()`` is a generator function. Defined as an ``Iterable[float]``. Output is another ``Iterable[float]``.\n",
    "\n",
    "Note the obvious matchup between ``tach_readings`` type and ``transform_6()`` parameter type. Tools like **mypy** love this."
   ]
  },
  {
   "cell_type": "markdown",
   "id": "4232d054-632a-42f6-a418-dc5ef95fb22f",
   "metadata": {},
   "source": [
    "## Important: Generators are Lazy!\n",
    "\n",
    "The ``for`` statement consumes one row from ``transform_6()`` to print the result.\n",
    "\n",
    "``transform_6()`` is a lazy generator. It consumes one row from ``tach_readings``.\n",
    "\n",
    "``tach_readings`` is a lazy generator. It consumes one row from ``reader``.\n",
    "\n",
    "``reader`` is just as lazy as everyone else. It consumes one row from the file.\n",
    "\n",
    "Eventually, the ``reader`` runs of out of rows and each of these iterators stops consuming data.\n",
    "\n",
    "But. \n",
    "\n",
    "There's only one row of source data in memory at a time."
   ]
  },
  {
   "cell_type": "markdown",
   "id": "301d2964-de0d-4643-a4e1-66b6975c693f",
   "metadata": {},
   "source": [
    "## Hmmm. I want more than one value\n",
    "\n",
    "Instead of ``Iterable[float]`` I really want ``Iterable[dict[str, float]]`` with some additional values in the dictionary.\n",
    "\n",
    "Here's what's in the dictionary now."
   ]
  },
  {
   "cell_type": "code",
   "execution_count": 185,
   "id": "4c8eadc9-4d1b-4185-aade-d1f910c690c6",
   "metadata": {},
   "outputs": [
    {
     "name": "stdout",
     "output_type": "stream",
     "text": [
      "['Sample', 'Tach', 'Engine']\n"
     ]
    }
   ],
   "source": [
    "source_path = Path(\"engine.csv\")\n",
    "with source_path.open() as source_file:\n",
    "    reader = DictReader(source_file)\n",
    "    print(reader.fieldnames)"
   ]
  },
  {
   "cell_type": "markdown",
   "id": "a676b5d3-c407-436b-9489-2c538fb1e90d",
   "metadata": {},
   "source": [
    "I'd like to add ``Transfomed`` to compare the actual ``Engine`` against the transformed ``Tach`` value.\n",
    "\n",
    "Why? I'm trying to model something and I need to compare model against actual.\n",
    "\n",
    "Two choices:\n",
    "\n",
    "- As described above, update the dictionary. It's mutable.\n",
    "\n",
    "- Change from a mutable dictionary to something a little smarter.\n",
    "\n",
    "    - A NamedTuple or dataclass with a computed property.\n",
    "    \n",
    "    - A sequence of NamedTuples with increasingly sophisticated data."
   ]
  },
  {
   "cell_type": "code",
   "execution_count": 190,
   "id": "92d798c0-e249-4e64-b3ba-a205db62bcf5",
   "metadata": {},
   "outputs": [],
   "source": [
    "from typing import NamedTuple\n",
    "class SampleWithModel(NamedTuple):\n",
    "    tach: float\n",
    "    engine: float\n",
    "    @property\n",
    "    def transformed(self):\n",
    "        return self.tach * 0.7142"
   ]
  },
  {
   "cell_type": "code",
   "execution_count": 191,
   "id": "381b9c58-e443-4bc2-b359-a1103d138029",
   "metadata": {},
   "outputs": [
    {
     "name": "stdout",
     "output_type": "stream",
     "text": [
      "1000.0, 883.0, 714.1999999999999\n",
      "1500.0, 1242.0, 1071.3\n",
      "1500.0, 1217.0, 1071.3\n",
      "1600.0, 1306.0, 1142.7199999999998\n",
      "1750.0, 1534.0, 1249.85\n",
      "2000.0, 1805.0, 1428.3999999999999\n",
      "2000.0, 1720.0, 1428.3999999999999\n"
     ]
    }
   ],
   "source": [
    "source_path = Path(\"engine.csv\")\n",
    "with source_path.open() as source_file:\n",
    "    reader = DictReader(source_file)\n",
    "    data = (\n",
    "        SampleWithModel(float(row[\"Tach\"]), float(row[\"Engine\"]))\n",
    "        for row in reader)\n",
    "    for swm in data:\n",
    "        print(f\"{swm.tach}, {swm.engine}, {swm.transformed}\")"
   ]
  },
  {
   "cell_type": "markdown",
   "id": "89c91b90-7529-47bb-ac4c-a5cb672abca9",
   "metadata": {},
   "source": [
    "## Not a fan\n",
    "\n",
    "The model is buried inside a class where it's awkward to modify as we understand more about the data.\n",
    "\n",
    "Let's try the alternative approach."
   ]
  },
  {
   "cell_type": "code",
   "execution_count": 192,
   "id": "51dcffd6-e6ef-4246-8143-306981362612",
   "metadata": {},
   "outputs": [],
   "source": [
    "class Sample(NamedTuple):\n",
    "    tach: float\n",
    "    engine: float\n",
    "\n",
    "class SamplePlus(NamedTuple):\n",
    "    tach: float\n",
    "    engine: float\n",
    "    transformed: float"
   ]
  },
  {
   "cell_type": "code",
   "execution_count": 195,
   "id": "64fd628f-7896-425b-aa1e-3c1b34676846",
   "metadata": {},
   "outputs": [
    {
     "name": "stdout",
     "output_type": "stream",
     "text": [
      "1000.0, 883.0, 714.1999999999999\n",
      "1500.0, 1242.0, 1071.3\n",
      "1500.0, 1217.0, 1071.3\n",
      "1600.0, 1306.0, 1142.7199999999998\n",
      "1750.0, 1534.0, 1249.85\n",
      "2000.0, 1805.0, 1428.3999999999999\n",
      "2000.0, 1720.0, 1428.3999999999999\n"
     ]
    }
   ],
   "source": [
    "source_path = Path(\"engine.csv\")\n",
    "model = transform_5b\n",
    "with source_path.open() as source_file:\n",
    "    reader = DictReader(source_file)\n",
    "    raw_data = (\n",
    "        Sample(float(row[\"Tach\"]), float(row[\"Engine\"]))\n",
    "        for row in reader)\n",
    "    transformed = (\n",
    "        SamplePlus(row.tach, row.engine, model(row.tach))\n",
    "        for row in raw_data)\n",
    "    for swm in transformed:\n",
    "        print(f\"{swm.tach}, {swm.engine}, {swm.transformed}\")"
   ]
  },
  {
   "cell_type": "markdown",
   "id": "ec3830f1-23ee-47f0-beb3-d5b6b437adf7",
   "metadata": {},
   "source": [
    "## Let's Refactor into a function"
   ]
  },
  {
   "cell_type": "code",
   "execution_count": 199,
   "id": "4e87142f-5fb2-4771-9e68-546bc688f5da",
   "metadata": {},
   "outputs": [],
   "source": [
    "def engine_model(source_path: Path, model: Callable[[float], float]) -> Iterator[SamplePlus]:\n",
    "    with source_path.open() as source_file:\n",
    "        reader = DictReader(source_file)\n",
    "        raw_data = (\n",
    "            Sample(float(row[\"Tach\"]), float(row[\"Engine\"]))\n",
    "            for row in reader)\n",
    "        transformed = (\n",
    "            SamplePlus(row.tach, row.engine, model(row.tach))\n",
    "            for row in raw_data)\n",
    "        yield from transformed"
   ]
  },
  {
   "cell_type": "code",
   "execution_count": 200,
   "id": "0f1d9cf7-5825-4fe3-a804-927240912657",
   "metadata": {},
   "outputs": [
    {
     "data": {
      "text/plain": [
       "[SamplePlus(tach=1000.0, engine=883.0, transformed=714.1999999999999),\n",
       " SamplePlus(tach=1500.0, engine=1242.0, transformed=1071.3),\n",
       " SamplePlus(tach=1500.0, engine=1217.0, transformed=1071.3),\n",
       " SamplePlus(tach=1600.0, engine=1306.0, transformed=1142.7199999999998),\n",
       " SamplePlus(tach=1750.0, engine=1534.0, transformed=1249.85),\n",
       " SamplePlus(tach=2000.0, engine=1805.0, transformed=1428.3999999999999),\n",
       " SamplePlus(tach=2000.0, engine=1720.0, transformed=1428.3999999999999)]"
      ]
     },
     "execution_count": 200,
     "metadata": {},
     "output_type": "execute_result"
    }
   ],
   "source": [
    "list(engine_model(source_path, transform_5a))"
   ]
  },
  {
   "cell_type": "markdown",
   "id": "21945f70-2e3b-4f9e-8c46-7989aa768800",
   "metadata": {},
   "source": [
    "## Corrected Model\n",
    "\n",
    "Skipping details of the linear regression.\n",
    "\n",
    "It involves a lot of ``sum(tach)`` and ``sum_2(tach)`` and that kind of thing.\n",
    "\n",
    "\\\\[ r_{xy} = \\frac{\\sum x y - n \\bar x \\bar y}{(n-1)\\sigma_x\\sigma_y} \\\\]\n",
    "\n",
    "\n",
    "\\\\[\n",
    "b = \\frac{\\sum {x}{y} - n  \\bar x \\bar y}{(n-1){\\sigma_x} ^ 2} = r_{xy} \\frac {\\sigma_y}{\\sigma_x}\n",
    "\\\\]\n",
    "\n",
    "\\\\[\n",
    "a = \\bar y - b \\bar x\n",
    "\\\\]"
   ]
  },
  {
   "cell_type": "code",
   "execution_count": 201,
   "id": "418c35a0-cdd0-4f2d-87c6-c18ff4b701b4",
   "metadata": {},
   "outputs": [
    {
     "data": {
      "text/plain": [
       "[SamplePlus(tach=1000.0, engine=883.0, transformed=810.0),\n",
       " SamplePlus(tach=1500.0, engine=1242.0, transformed=1260.0),\n",
       " SamplePlus(tach=1500.0, engine=1217.0, transformed=1260.0),\n",
       " SamplePlus(tach=1600.0, engine=1306.0, transformed=1350.0),\n",
       " SamplePlus(tach=1750.0, engine=1534.0, transformed=1485.0),\n",
       " SamplePlus(tach=2000.0, engine=1805.0, transformed=1710.0),\n",
       " SamplePlus(tach=2000.0, engine=1720.0, transformed=1710.0)]"
      ]
     },
     "execution_count": 201,
     "metadata": {},
     "output_type": "execute_result"
    }
   ],
   "source": [
    "def new_model(t: float) -> float:\n",
    "    return 0.9*t - 90\n",
    "\n",
    "list(engine_model(source_path, new_model))"
   ]
  },
  {
   "cell_type": "markdown",
   "id": "8d15f144-2b35-4e3b-a426-88dd58c732eb",
   "metadata": {},
   "source": [
    "## Wrap-up\n",
    "\n",
    "1. Function Definitions \n",
    "\n",
    "2. Higher-Order Functions\n",
    "\n",
    "3. Function Wrappers (around methods)\n",
    "\n",
    "4. Lambdas\n",
    "\n",
    "5. Callable Objects\n",
    "\n",
    "6. Generator Functions and Yield\n",
    "\n",
    "Yes. That's six. But. Higher-Order Functions aren't magical."
   ]
  },
  {
   "cell_type": "markdown",
   "id": "663c271f-d775-4d75-832f-16f573007023",
   "metadata": {},
   "source": [
    "## Questions?\n",
    "\n",
    "We'll start again with part 4, **Tooling and Good Practices**"
   ]
  },
  {
   "cell_type": "code",
   "execution_count": null,
   "id": "51358e40-a6e0-4b19-b862-cb0b001a203b",
   "metadata": {},
   "outputs": [],
   "source": []
  }
 ],
 "metadata": {
  "kernelspec": {
   "display_name": "Python 3",
   "language": "python",
   "name": "python3"
  },
  "language_info": {
   "codemirror_mode": {
    "name": "ipython",
    "version": 3
   },
   "file_extension": ".py",
   "mimetype": "text/x-python",
   "name": "python",
   "nbconvert_exporter": "python",
   "pygments_lexer": "ipython3",
   "version": "3.9.6"
  }
 },
 "nbformat": 4,
 "nbformat_minor": 5
}
