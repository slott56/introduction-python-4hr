{
 "cells": [
  {
   "cell_type": "markdown",
   "id": "fc1af488-9345-417f-9655-c3139612caf6",
   "metadata": {},
   "source": [
    "# Essential Computation\n",
    "\n",
    "Volume of a tetrahedron.\n",
    "\n",
    "\\\\[\n",
    "    V = \\frac{a^3}{6 \\sqrt{2}}\n",
    "\\\\]"
   ]
  },
  {
   "cell_type": "markdown",
   "id": "dcc98dd8-9f2d-4cf7-a21f-f48ba6eef9b8",
   "metadata": {},
   "source": [
    "Real tetrahedron is irregular with three **nearly-equal** measurements."
   ]
  },
  {
   "cell_type": "code",
   "execution_count": 1,
   "id": "49cdd684-3f4d-4d85-8a81-230a04e8da10",
   "metadata": {},
   "outputs": [],
   "source": [
    "a_1 = 48\n",
    "a_2 = 36\n",
    "a_3 = 51"
   ]
  },
  {
   "cell_type": "code",
   "execution_count": 2,
   "id": "e61673ec-9753-48df-b400-7b161e99061c",
   "metadata": {},
   "outputs": [],
   "source": [
    "a = (a_1 + a_2 + a_3) / 3"
   ]
  },
  {
   "cell_type": "code",
   "execution_count": 3,
   "id": "b3f8e18a-242c-4803-9ee8-6375ce5589cc",
   "metadata": {},
   "outputs": [
    {
     "data": {
      "text/plain": [
       "45.0"
      ]
     },
     "execution_count": 3,
     "metadata": {},
     "output_type": "execute_result"
    }
   ],
   "source": [
    "a"
   ]
  },
  {
   "cell_type": "code",
   "execution_count": 4,
   "id": "1856d00f-fbd4-4896-966a-8787d738a0ee",
   "metadata": {},
   "outputs": [],
   "source": [
    "from math import sqrt"
   ]
  },
  {
   "cell_type": "code",
   "execution_count": 5,
   "id": "b6ae7d22-4989-4abb-8ae9-8e633059a717",
   "metadata": {},
   "outputs": [],
   "source": [
    "V = a**3 / (6*sqrt(2))"
   ]
  },
  {
   "cell_type": "code",
   "execution_count": 6,
   "id": "bf836bbf-10c0-479d-b4d1-96e88a614d5d",
   "metadata": {},
   "outputs": [
    {
     "data": {
      "text/plain": [
       "10739.18423927069"
      ]
     },
     "execution_count": 6,
     "metadata": {},
     "output_type": "execute_result"
    }
   ],
   "source": [
    "V"
   ]
  },
  {
   "cell_type": "code",
   "execution_count": 7,
   "id": "60a00c46-273b-4861-9711-0bbe6a7ade51",
   "metadata": {},
   "outputs": [
    {
     "data": {
      "text/plain": [
       "46.489975061777876"
      ]
     },
     "execution_count": 7,
     "metadata": {},
     "output_type": "execute_result"
    }
   ],
   "source": [
    "V / 231"
   ]
  },
  {
   "cell_type": "code",
   "execution_count": 8,
   "id": "774d5538-4a54-4516-ba9d-45125f5a8e57",
   "metadata": {},
   "outputs": [
    {
     "data": {
      "text/plain": [
       "46"
      ]
     },
     "execution_count": 8,
     "metadata": {},
     "output_type": "execute_result"
    }
   ],
   "source": [
    "round(Out[7])"
   ]
  },
  {
   "cell_type": "code",
   "execution_count": null,
   "id": "4804a0be-21b6-4af9-87bb-cfbb084c43ae",
   "metadata": {},
   "outputs": [],
   "source": []
  }
 ],
 "metadata": {
  "kernelspec": {
   "display_name": "Python 3",
   "language": "python",
   "name": "python3"
  },
  "language_info": {
   "codemirror_mode": {
    "name": "ipython",
    "version": 3
   },
   "file_extension": ".py",
   "mimetype": "text/x-python",
   "name": "python",
   "nbconvert_exporter": "python",
   "pygments_lexer": "ipython3",
   "version": "3.9.6"
  }
 },
 "nbformat": 4,
 "nbformat_minor": 5
}
