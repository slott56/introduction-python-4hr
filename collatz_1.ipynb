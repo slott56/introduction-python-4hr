{
 "cells": [
  {
   "cell_type": "markdown",
   "id": "59b4dbb6-20fa-4063-b016-5e831ebd6fc1",
   "metadata": {
    "tags": []
   },
   "source": [
    "# Collatz Conjecture\n",
    "\n",
    "## Step 1. \n",
    "\n",
    "Define a function.\n",
    "\n",
    "\\\\[\n",
    "    h(n) = \\begin{cases}\n",
    "    \\frac{n}{2}& \\text{if $n$ is even},\\\\\n",
    "    3n+1& \\text{if $n$ is odd}\n",
    "    \\end{cases}\n",
    "\\\\]"
   ]
  },
  {
   "cell_type": "code",
   "execution_count": 1,
   "id": "64d47576-4d23-483d-8e91-0d74556db72b",
   "metadata": {},
   "outputs": [],
   "source": [
    "def h(n: int) -> int:\n",
    "    if n % 2 == 0:\n",
    "        return n // 2\n",
    "    else:\n",
    "        return 3 * n + 1"
   ]
  },
  {
   "cell_type": "markdown",
   "id": "e0613c94-4950-466f-afc2-f9758cf93b34",
   "metadata": {},
   "source": [
    "## Step 2. \n",
    "\n",
    "Test the function."
   ]
  },
  {
   "cell_type": "code",
   "execution_count": 2,
   "id": "0661a7f4-9b4b-46b3-a4f1-6ba7ca0f9a1f",
   "metadata": {},
   "outputs": [
    {
     "data": {
      "text/plain": [
       "True"
      ]
     },
     "execution_count": 2,
     "metadata": {},
     "output_type": "execute_result"
    }
   ],
   "source": [
    "h(10) == 5"
   ]
  },
  {
   "cell_type": "code",
   "execution_count": 3,
   "id": "cde82c56-7b09-463b-98f2-0c9c46483db1",
   "metadata": {},
   "outputs": [
    {
     "data": {
      "text/plain": [
       "True"
      ]
     },
     "execution_count": 3,
     "metadata": {},
     "output_type": "execute_result"
    }
   ],
   "source": [
    "h(5) == 16"
   ]
  },
  {
   "cell_type": "markdown",
   "id": "b903cfb6-4f0c-4ee0-9756-25853b1da18e",
   "metadata": {},
   "source": [
    "## Step 3. \n",
    "\n",
    "Iterate a few times."
   ]
  },
  {
   "cell_type": "code",
   "execution_count": 4,
   "id": "c7d92bc1-189a-4127-8b90-b92eedb95698",
   "metadata": {},
   "outputs": [
    {
     "data": {
      "text/plain": [
       "16"
      ]
     },
     "execution_count": 4,
     "metadata": {},
     "output_type": "execute_result"
    }
   ],
   "source": [
    "h(5)"
   ]
  },
  {
   "cell_type": "code",
   "execution_count": 5,
   "id": "25cbc5c2-807a-47d2-acc5-a81f0e675156",
   "metadata": {},
   "outputs": [
    {
     "data": {
      "text/plain": [
       "8"
      ]
     },
     "execution_count": 5,
     "metadata": {},
     "output_type": "execute_result"
    }
   ],
   "source": [
    "h(16)"
   ]
  },
  {
   "cell_type": "code",
   "execution_count": 6,
   "id": "089aef54-5717-40ca-a655-e903aff38f71",
   "metadata": {},
   "outputs": [
    {
     "data": {
      "text/plain": [
       "4"
      ]
     },
     "execution_count": 6,
     "metadata": {},
     "output_type": "execute_result"
    }
   ],
   "source": [
    "h(Out[5])"
   ]
  },
  {
   "cell_type": "code",
   "execution_count": 7,
   "id": "c449ec24-3db6-482e-9c60-b6f74752839b",
   "metadata": {},
   "outputs": [
    {
     "data": {
      "text/plain": [
       "2"
      ]
     },
     "execution_count": 7,
     "metadata": {},
     "output_type": "execute_result"
    }
   ],
   "source": [
    "h(Out[6])"
   ]
  },
  {
   "cell_type": "markdown",
   "id": "e7ed2e4a-1a23-43d2-9d5d-34afcf32139a",
   "metadata": {},
   "source": [
    "## Step 4. \n",
    "\n",
    "Define an iteration function that prints a result."
   ]
  },
  {
   "cell_type": "code",
   "execution_count": 8,
   "id": "62772cf1-a135-4cc1-9315-9b07219636fd",
   "metadata": {},
   "outputs": [],
   "source": [
    "def iterate_from(n: int) -> None:\n",
    "    print(n)\n",
    "    while n != 1:\n",
    "        n = h(n)\n",
    "        print(n)"
   ]
  },
  {
   "cell_type": "code",
   "execution_count": 9,
   "id": "f4848c13-573d-4473-bde9-7587227a7c19",
   "metadata": {},
   "outputs": [
    {
     "name": "stdout",
     "output_type": "stream",
     "text": [
      "16\n",
      "8\n",
      "4\n",
      "2\n",
      "1\n"
     ]
    }
   ],
   "source": [
    "iterate_from(16)"
   ]
  },
  {
   "cell_type": "code",
   "execution_count": 10,
   "id": "7bf49dc2-deb2-47e7-ad9f-988040668eeb",
   "metadata": {},
   "outputs": [
    {
     "name": "stdout",
     "output_type": "stream",
     "text": [
      "15\n",
      "46\n",
      "23\n",
      "70\n",
      "35\n",
      "106\n",
      "53\n",
      "160\n",
      "80\n",
      "40\n",
      "20\n",
      "10\n",
      "5\n",
      "16\n",
      "8\n",
      "4\n",
      "2\n",
      "1\n"
     ]
    }
   ],
   "source": [
    "iterate_from(15)"
   ]
  },
  {
   "cell_type": "code",
   "execution_count": null,
   "id": "0294fa5a-1b4e-40c3-a64c-c0d420328217",
   "metadata": {},
   "outputs": [],
   "source": []
  }
 ],
 "metadata": {
  "kernelspec": {
   "display_name": "Python 3",
   "language": "python",
   "name": "python3"
  },
  "language_info": {
   "codemirror_mode": {
    "name": "ipython",
    "version": 3
   },
   "file_extension": ".py",
   "mimetype": "text/x-python",
   "name": "python",
   "nbconvert_exporter": "python",
   "pygments_lexer": "ipython3",
   "version": "3.9.6"
  }
 },
 "nbformat": 4,
 "nbformat_minor": 5
}
