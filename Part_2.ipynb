{
 "cells": [
  {
   "cell_type": "markdown",
   "id": "cbc80bbb-a5f7-4444-97af-02f41349ce06",
   "metadata": {},
   "source": [
    "# Part 2: Built-in data structures: list, set, dictionary, tuple"
   ]
  },
  {
   "cell_type": "markdown",
   "id": "6a4cf0cd-5387-4893-a6ff-74b7c9c6c290",
   "metadata": {},
   "source": [
    "## Agenda\n",
    "\n",
    "1.  Numbers\n",
    "\n",
    "2.  Strings\n",
    "\n",
    "3.  Booleans\n",
    "\n",
    "4.  Tuples\n",
    "\n",
    "5.  Mutable Data Structures\n",
    "\n",
    "    a.  Sets\n",
    "\n",
    "    b.  Lists\n",
    "\n",
    "    c.  Dictionaries\n",
    "    \n",
    "    d.  Composites: list of dict \n",
    "    \n",
    "6. Assignment and Variables"
   ]
  },
  {
   "cell_type": "markdown",
   "id": "452a817b-44de-4995-b15f-654311561b25",
   "metadata": {},
   "source": [
    "## 1. Numbers\n",
    "\n",
    "Integers\n",
    "\n",
    "Floats\n",
    "\n",
    "Complex"
   ]
  },
  {
   "cell_type": "code",
   "execution_count": 1,
   "id": "56da3a04-1f51-42ff-be5f-d7bbbd2f2db5",
   "metadata": {},
   "outputs": [
    {
     "data": {
      "text/plain": [
       "468"
      ]
     },
     "execution_count": 1,
     "metadata": {},
     "output_type": "execute_result"
    }
   ],
   "source": [
    "355 + 113"
   ]
  },
  {
   "cell_type": "code",
   "execution_count": 2,
   "id": "55f6e96b-cde3-4397-be83-610d37c2d22e",
   "metadata": {},
   "outputs": [
    {
     "data": {
      "text/plain": [
       "3.1415929203539825"
      ]
     },
     "execution_count": 2,
     "metadata": {},
     "output_type": "execute_result"
    }
   ],
   "source": [
    "355. / 113."
   ]
  },
  {
   "cell_type": "code",
   "execution_count": 3,
   "id": "e2c46453-3bde-4285-9b84-dbdfe68aad9f",
   "metadata": {},
   "outputs": [
    {
     "data": {
      "text/plain": [
       "(6.5+13j)"
      ]
     },
     "execution_count": 3,
     "metadata": {},
     "output_type": "execute_result"
    }
   ],
   "source": [
    "(2 + 3j) * (4 + .5j)"
   ]
  },
  {
   "cell_type": "markdown",
   "id": "cb9c6d5d-571f-49de-a3ae-374576b5ae78",
   "metadata": {},
   "source": [
    "Limits:\n",
    "\n",
    "Integers have no limits. If you try to create too large a number, you really can fill memory and crash.  But it's a big number.\n",
    "\n",
    "Float is IEEE 64-bit floats. \n",
    "\n",
    "Complex is a pair of 64-bit floats."
   ]
  },
  {
   "cell_type": "code",
   "execution_count": 4,
   "id": "7e63a098-cdc3-45d3-a246-dabd20dd1441",
   "metadata": {},
   "outputs": [
    {
     "data": {
      "text/plain": [
       "32317006071311007300714876688669951960444102669715484032130345427524655138867890893197201411522913463688717960921898019494119559150490921095088152386448283120630877367300996091750197750389652106796057638384067568276792218642619756161838094338476170470581645852036305042887575891541065808607552399123930385521914333389668342420684974786564569494856176035326322058077805659331026192708460314150258592864177116725943603718461857357598351152301645904403697613233287231227125684710820209725157101726931323469678542580656697935045997268352998638215525166389437335543602135433229604645318478604952148193555853611059596230656"
      ]
     },
     "execution_count": 4,
     "metadata": {},
     "output_type": "execute_result"
    }
   ],
   "source": [
    "2**2048"
   ]
  },
  {
   "cell_type": "markdown",
   "id": "2d4db99d-e81b-40c4-8ce8-352b3ce0e0c8",
   "metadata": {},
   "source": [
    "## Built-in functions"
   ]
  },
  {
   "cell_type": "code",
   "execution_count": 5,
   "id": "9fc42e7e-bff7-4019-ab0f-d2cd17e2f665",
   "metadata": {},
   "outputs": [
    {
     "data": {
      "text/plain": [
       "42.0"
      ]
     },
     "execution_count": 5,
     "metadata": {},
     "output_type": "execute_result"
    }
   ],
   "source": [
    "float(\"42\")"
   ]
  },
  {
   "cell_type": "code",
   "execution_count": 6,
   "id": "ab0a792f-2e98-4773-b9c9-40a86c5f9aeb",
   "metadata": {},
   "outputs": [
    {
     "data": {
      "text/plain": [
       "2"
      ]
     },
     "execution_count": 6,
     "metadata": {},
     "output_type": "execute_result"
    }
   ],
   "source": [
    "int(2.718281828459045)"
   ]
  },
  {
   "cell_type": "markdown",
   "id": "4ca4bf36-4d89-480f-ba3a-c17cf543a405",
   "metadata": {},
   "source": [
    "## The math library"
   ]
  },
  {
   "cell_type": "code",
   "execution_count": 7,
   "id": "e14fb7ad-f2f3-4fa3-955f-9a7f22fa5be3",
   "metadata": {},
   "outputs": [],
   "source": [
    "import math"
   ]
  },
  {
   "cell_type": "code",
   "execution_count": 8,
   "id": "17eaaf8c-e348-47b9-af95-eb8facfdcc4d",
   "metadata": {},
   "outputs": [
    {
     "data": {
      "text/plain": [
       "1.4142135623730951"
      ]
     },
     "execution_count": 8,
     "metadata": {},
     "output_type": "execute_result"
    }
   ],
   "source": [
    "math.sqrt(2)"
   ]
  },
  {
   "cell_type": "code",
   "execution_count": 9,
   "id": "fed31237-c4b3-4220-a8a0-0951e6e9ddb3",
   "metadata": {},
   "outputs": [
    {
     "name": "stdout",
     "output_type": "stream",
     "text": [
      "Help on module math:\n",
      "\n",
      "NAME\n",
      "    math\n",
      "\n",
      "MODULE REFERENCE\n",
      "    https://docs.python.org/3.9/library/math\n",
      "    \n",
      "    The following documentation is automatically generated from the Python\n",
      "    source files.  It may be incomplete, incorrect or include features that\n",
      "    are considered implementation detail and may vary between Python\n",
      "    implementations.  When in doubt, consult the module reference at the\n",
      "    location listed above.\n",
      "\n",
      "DESCRIPTION\n",
      "    This module provides access to the mathematical functions\n",
      "    defined by the C standard.\n",
      "\n",
      "FUNCTIONS\n",
      "    acos(x, /)\n",
      "        Return the arc cosine (measured in radians) of x.\n",
      "        \n",
      "        The result is between 0 and pi.\n",
      "    \n",
      "    acosh(x, /)\n",
      "        Return the inverse hyperbolic cosine of x.\n",
      "    \n",
      "    asin(x, /)\n",
      "        Return the arc sine (measured in radians) of x.\n",
      "        \n",
      "        The result is between -pi/2 and pi/2.\n",
      "    \n",
      "    asinh(x, /)\n",
      "        Return the inverse hyperbolic sine of x.\n",
      "    \n",
      "    atan(x, /)\n",
      "        Return the arc tangent (measured in radians) of x.\n",
      "        \n",
      "        The result is between -pi/2 and pi/2.\n",
      "    \n",
      "    atan2(y, x, /)\n",
      "        Return the arc tangent (measured in radians) of y/x.\n",
      "        \n",
      "        Unlike atan(y/x), the signs of both x and y are considered.\n",
      "    \n",
      "    atanh(x, /)\n",
      "        Return the inverse hyperbolic tangent of x.\n",
      "    \n",
      "    ceil(x, /)\n",
      "        Return the ceiling of x as an Integral.\n",
      "        \n",
      "        This is the smallest integer >= x.\n",
      "    \n",
      "    comb(n, k, /)\n",
      "        Number of ways to choose k items from n items without repetition and without order.\n",
      "        \n",
      "        Evaluates to n! / (k! * (n - k)!) when k <= n and evaluates\n",
      "        to zero when k > n.\n",
      "        \n",
      "        Also called the binomial coefficient because it is equivalent\n",
      "        to the coefficient of k-th term in polynomial expansion of the\n",
      "        expression (1 + x)**n.\n",
      "        \n",
      "        Raises TypeError if either of the arguments are not integers.\n",
      "        Raises ValueError if either of the arguments are negative.\n",
      "    \n",
      "    copysign(x, y, /)\n",
      "        Return a float with the magnitude (absolute value) of x but the sign of y.\n",
      "        \n",
      "        On platforms that support signed zeros, copysign(1.0, -0.0)\n",
      "        returns -1.0.\n",
      "    \n",
      "    cos(x, /)\n",
      "        Return the cosine of x (measured in radians).\n",
      "    \n",
      "    cosh(x, /)\n",
      "        Return the hyperbolic cosine of x.\n",
      "    \n",
      "    degrees(x, /)\n",
      "        Convert angle x from radians to degrees.\n",
      "    \n",
      "    dist(p, q, /)\n",
      "        Return the Euclidean distance between two points p and q.\n",
      "        \n",
      "        The points should be specified as sequences (or iterables) of\n",
      "        coordinates.  Both inputs must have the same dimension.\n",
      "        \n",
      "        Roughly equivalent to:\n",
      "            sqrt(sum((px - qx) ** 2.0 for px, qx in zip(p, q)))\n",
      "    \n",
      "    erf(x, /)\n",
      "        Error function at x.\n",
      "    \n",
      "    erfc(x, /)\n",
      "        Complementary error function at x.\n",
      "    \n",
      "    exp(x, /)\n",
      "        Return e raised to the power of x.\n",
      "    \n",
      "    expm1(x, /)\n",
      "        Return exp(x)-1.\n",
      "        \n",
      "        This function avoids the loss of precision involved in the direct evaluation of exp(x)-1 for small x.\n",
      "    \n",
      "    fabs(x, /)\n",
      "        Return the absolute value of the float x.\n",
      "    \n",
      "    factorial(x, /)\n",
      "        Find x!.\n",
      "        \n",
      "        Raise a ValueError if x is negative or non-integral.\n",
      "    \n",
      "    floor(x, /)\n",
      "        Return the floor of x as an Integral.\n",
      "        \n",
      "        This is the largest integer <= x.\n",
      "    \n",
      "    fmod(x, y, /)\n",
      "        Return fmod(x, y), according to platform C.\n",
      "        \n",
      "        x % y may differ.\n",
      "    \n",
      "    frexp(x, /)\n",
      "        Return the mantissa and exponent of x, as pair (m, e).\n",
      "        \n",
      "        m is a float and e is an int, such that x = m * 2.**e.\n",
      "        If x is 0, m and e are both 0.  Else 0.5 <= abs(m) < 1.0.\n",
      "    \n",
      "    fsum(seq, /)\n",
      "        Return an accurate floating point sum of values in the iterable seq.\n",
      "        \n",
      "        Assumes IEEE-754 floating point arithmetic.\n",
      "    \n",
      "    gamma(x, /)\n",
      "        Gamma function at x.\n",
      "    \n",
      "    gcd(*integers)\n",
      "        Greatest Common Divisor.\n",
      "    \n",
      "    hypot(...)\n",
      "        hypot(*coordinates) -> value\n",
      "        \n",
      "        Multidimensional Euclidean distance from the origin to a point.\n",
      "        \n",
      "        Roughly equivalent to:\n",
      "            sqrt(sum(x**2 for x in coordinates))\n",
      "        \n",
      "        For a two dimensional point (x, y), gives the hypotenuse\n",
      "        using the Pythagorean theorem:  sqrt(x*x + y*y).\n",
      "        \n",
      "        For example, the hypotenuse of a 3/4/5 right triangle is:\n",
      "        \n",
      "            >>> hypot(3.0, 4.0)\n",
      "            5.0\n",
      "    \n",
      "    isclose(a, b, *, rel_tol=1e-09, abs_tol=0.0)\n",
      "        Determine whether two floating point numbers are close in value.\n",
      "        \n",
      "          rel_tol\n",
      "            maximum difference for being considered \"close\", relative to the\n",
      "            magnitude of the input values\n",
      "          abs_tol\n",
      "            maximum difference for being considered \"close\", regardless of the\n",
      "            magnitude of the input values\n",
      "        \n",
      "        Return True if a is close in value to b, and False otherwise.\n",
      "        \n",
      "        For the values to be considered close, the difference between them\n",
      "        must be smaller than at least one of the tolerances.\n",
      "        \n",
      "        -inf, inf and NaN behave similarly to the IEEE 754 Standard.  That\n",
      "        is, NaN is not close to anything, even itself.  inf and -inf are\n",
      "        only close to themselves.\n",
      "    \n",
      "    isfinite(x, /)\n",
      "        Return True if x is neither an infinity nor a NaN, and False otherwise.\n",
      "    \n",
      "    isinf(x, /)\n",
      "        Return True if x is a positive or negative infinity, and False otherwise.\n",
      "    \n",
      "    isnan(x, /)\n",
      "        Return True if x is a NaN (not a number), and False otherwise.\n",
      "    \n",
      "    isqrt(n, /)\n",
      "        Return the integer part of the square root of the input.\n",
      "    \n",
      "    lcm(*integers)\n",
      "        Least Common Multiple.\n",
      "    \n",
      "    ldexp(x, i, /)\n",
      "        Return x * (2**i).\n",
      "        \n",
      "        This is essentially the inverse of frexp().\n",
      "    \n",
      "    lgamma(x, /)\n",
      "        Natural logarithm of absolute value of Gamma function at x.\n",
      "    \n",
      "    log(...)\n",
      "        log(x, [base=math.e])\n",
      "        Return the logarithm of x to the given base.\n",
      "        \n",
      "        If the base not specified, returns the natural logarithm (base e) of x.\n",
      "    \n",
      "    log10(x, /)\n",
      "        Return the base 10 logarithm of x.\n",
      "    \n",
      "    log1p(x, /)\n",
      "        Return the natural logarithm of 1+x (base e).\n",
      "        \n",
      "        The result is computed in a way which is accurate for x near zero.\n",
      "    \n",
      "    log2(x, /)\n",
      "        Return the base 2 logarithm of x.\n",
      "    \n",
      "    modf(x, /)\n",
      "        Return the fractional and integer parts of x.\n",
      "        \n",
      "        Both results carry the sign of x and are floats.\n",
      "    \n",
      "    nextafter(x, y, /)\n",
      "        Return the next floating-point value after x towards y.\n",
      "    \n",
      "    perm(n, k=None, /)\n",
      "        Number of ways to choose k items from n items without repetition and with order.\n",
      "        \n",
      "        Evaluates to n! / (n - k)! when k <= n and evaluates\n",
      "        to zero when k > n.\n",
      "        \n",
      "        If k is not specified or is None, then k defaults to n\n",
      "        and the function returns n!.\n",
      "        \n",
      "        Raises TypeError if either of the arguments are not integers.\n",
      "        Raises ValueError if either of the arguments are negative.\n",
      "    \n",
      "    pow(x, y, /)\n",
      "        Return x**y (x to the power of y).\n",
      "    \n",
      "    prod(iterable, /, *, start=1)\n",
      "        Calculate the product of all the elements in the input iterable.\n",
      "        \n",
      "        The default start value for the product is 1.\n",
      "        \n",
      "        When the iterable is empty, return the start value.  This function is\n",
      "        intended specifically for use with numeric values and may reject\n",
      "        non-numeric types.\n",
      "    \n",
      "    radians(x, /)\n",
      "        Convert angle x from degrees to radians.\n",
      "    \n",
      "    remainder(x, y, /)\n",
      "        Difference between x and the closest integer multiple of y.\n",
      "        \n",
      "        Return x - n*y where n*y is the closest integer multiple of y.\n",
      "        In the case where x is exactly halfway between two multiples of\n",
      "        y, the nearest even value of n is used. The result is always exact.\n",
      "    \n",
      "    sin(x, /)\n",
      "        Return the sine of x (measured in radians).\n",
      "    \n",
      "    sinh(x, /)\n",
      "        Return the hyperbolic sine of x.\n",
      "    \n",
      "    sqrt(x, /)\n",
      "        Return the square root of x.\n",
      "    \n",
      "    tan(x, /)\n",
      "        Return the tangent of x (measured in radians).\n",
      "    \n",
      "    tanh(x, /)\n",
      "        Return the hyperbolic tangent of x.\n",
      "    \n",
      "    trunc(x, /)\n",
      "        Truncates the Real x to the nearest Integral toward 0.\n",
      "        \n",
      "        Uses the __trunc__ magic method.\n",
      "    \n",
      "    ulp(x, /)\n",
      "        Return the value of the least significant bit of the float x.\n",
      "\n",
      "DATA\n",
      "    e = 2.718281828459045\n",
      "    inf = inf\n",
      "    nan = nan\n",
      "    pi = 3.141592653589793\n",
      "    tau = 6.283185307179586\n",
      "\n",
      "FILE\n",
      "    /Users/slott/miniconda3/envs/python4hr/lib/python3.9/lib-dynload/math.cpython-39-darwin.so\n",
      "\n",
      "\n"
     ]
    }
   ],
   "source": [
    "help(math)"
   ]
  },
  {
   "cell_type": "markdown",
   "id": "ec1fdbba-d423-4ad6-8bcf-cdc35f0c28bc",
   "metadata": {},
   "source": [
    "## Important\n",
    "\n",
    "Don't use ``float`` values for currency.\n",
    "\n",
    "IEEE standards mean **float is an approximation**.\n",
    "\n",
    "(This is not a Python *problem*.  You'll see Stack Overflow questions that make it seem like it's unique to Python or it's a problem. It's neither.)\n",
    "\n",
    "Number Theory:\n",
    "\n",
    "\\\\[\n",
    "((a + b) - a) - b == 0\n",
    "\\\\]\n",
    "\n",
    "IEEE Approximations:"
   ]
  },
  {
   "cell_type": "code",
   "execution_count": 10,
   "id": "076d74eb-3ad3-472e-b098-931297ac7cc1",
   "metadata": {},
   "outputs": [
    {
     "data": {
      "text/plain": [
       "4.7748263676261615e-15"
      ]
     },
     "execution_count": 10,
     "metadata": {},
     "output_type": "execute_result"
    }
   ],
   "source": [
    "((100.0 + .001) - 100.0) - 0.001"
   ]
  },
  {
   "cell_type": "markdown",
   "id": "21ea6790-5d8e-4d60-8375-8fa4eded6fd4",
   "metadata": {},
   "source": [
    "It's nearly zero; \\\\(\\approx \\frac{1}{2^{48}}\\\\)"
   ]
  },
  {
   "cell_type": "code",
   "execution_count": 11,
   "id": "79b1824f-f29b-4deb-9548-3c844976d4f3",
   "metadata": {},
   "outputs": [
    {
     "data": {
      "text/plain": [
       "3.552713678800501e-15"
      ]
     },
     "execution_count": 11,
     "metadata": {},
     "output_type": "execute_result"
    }
   ],
   "source": [
    "1/2**48"
   ]
  },
  {
   "cell_type": "markdown",
   "id": "f62bcd2b-c105-4c2f-89b4-4c9626615a7a",
   "metadata": {},
   "source": [
    "It turns out, it's \\\\(\\frac{5505}{2^{60}}\\\\) \n",
    "\n",
    "What's important is that the fraction is based on a power of 2, and anything relatively prime will have possible truncation problems. Since \\\\(10 = 2 \\times 5\\\\), decimal fractions present a bit of an approximation issue."
   ]
  },
  {
   "cell_type": "markdown",
   "id": "63a7eba7-3121-4c43-912a-4bc19362bff0",
   "metadata": {},
   "source": [
    "For equality tests, use ``math.isclose()``"
   ]
  },
  {
   "cell_type": "code",
   "execution_count": 12,
   "id": "65a8727c-1fab-4c56-b17d-907b2d7abb91",
   "metadata": {},
   "outputs": [],
   "source": [
    "from math import isclose"
   ]
  },
  {
   "cell_type": "code",
   "execution_count": 13,
   "id": "a235f325-2aad-4ecc-b8f8-75d0f9aa10ad",
   "metadata": {},
   "outputs": [
    {
     "data": {
      "text/plain": [
       "True"
      ]
     },
     "execution_count": 13,
     "metadata": {},
     "output_type": "execute_result"
    }
   ],
   "source": [
    "isclose(((100.0 + .001) - 100.0) - 0.001, 0.0, abs_tol=1E-10)"
   ]
  },
  {
   "cell_type": "markdown",
   "id": "a03fb518-ca4d-464b-bb31-e078a04e237d",
   "metadata": {},
   "source": [
    "## Using the decimal module"
   ]
  },
  {
   "cell_type": "code",
   "execution_count": 14,
   "id": "35cd1163-3b07-4ddf-a312-a38c756916fd",
   "metadata": {},
   "outputs": [],
   "source": [
    "from decimal import Decimal"
   ]
  },
  {
   "cell_type": "code",
   "execution_count": 15,
   "id": "280fdb53-cacb-4dc1-9f0f-5c126de74375",
   "metadata": {},
   "outputs": [
    {
     "data": {
      "text/plain": [
       "Decimal('7.416250')"
      ]
     },
     "execution_count": 15,
     "metadata": {},
     "output_type": "execute_result"
    }
   ],
   "source": [
    "cost = Decimal('6.98')\n",
    "tax_rate = Decimal('.0625')\n",
    "total = cost + cost*tax_rate\n",
    "total"
   ]
  },
  {
   "cell_type": "code",
   "execution_count": 16,
   "id": "0b2a47ed-cea9-4429-a2c3-320fd2196699",
   "metadata": {},
   "outputs": [
    {
     "data": {
      "text/plain": [
       "Decimal('7.42')"
      ]
     },
     "execution_count": 16,
     "metadata": {},
     "output_type": "execute_result"
    }
   ],
   "source": [
    "penny = Decimal('0.01')\n",
    "total.quantize(penny)"
   ]
  },
  {
   "cell_type": "markdown",
   "id": "b4f26305-8075-47e5-92da-d40198346e7c",
   "metadata": {},
   "source": [
    "## Fractions"
   ]
  },
  {
   "cell_type": "code",
   "execution_count": 17,
   "id": "a2feeb24-441b-45c0-9d08-2b3bcf2b8a54",
   "metadata": {},
   "outputs": [],
   "source": [
    "from fractions import Fraction"
   ]
  },
  {
   "cell_type": "markdown",
   "id": "70d10f76-e26e-4f67-8da8-a2d4881ee1b4",
   "metadata": {},
   "source": [
    "Recipe uses \\\\(\\frac{2}{3}\\\\) of a yam to serve 4.\n",
    "\n",
    "But. \n",
    "\n",
    "Expecting 5 vaccinated guests.\n",
    "\n",
    "So. \\\\(\\frac{5}{4}\\times\\frac{2}{3}\\\\).\n"
   ]
  },
  {
   "cell_type": "code",
   "execution_count": 18,
   "id": "3d7f25af-fec0-4b9b-a74b-b47031ad2199",
   "metadata": {},
   "outputs": [
    {
     "data": {
      "text/plain": [
       "Fraction(5, 6)"
      ]
     },
     "execution_count": 18,
     "metadata": {},
     "output_type": "execute_result"
    }
   ],
   "source": [
    "yams = Fraction(2, 3)\n",
    "serves = 4\n",
    "guests = 5\n",
    "guests * yams/serves"
   ]
  },
  {
   "cell_type": "markdown",
   "id": "1d313d15-cce1-4eb1-9280-122ad1b2e976",
   "metadata": {},
   "source": [
    "## 2. Strings\n",
    "\n",
    "Unicode text (not bytes, not ASCII)"
   ]
  },
  {
   "cell_type": "code",
   "execution_count": 19,
   "id": "94569029-790b-4cef-bb52-57c4e9fd32cf",
   "metadata": {},
   "outputs": [
    {
     "data": {
      "text/plain": [
       "'Hello, 🌐'"
      ]
     },
     "execution_count": 19,
     "metadata": {},
     "output_type": "execute_result"
    }
   ],
   "source": [
    "\"Hello, 🌐\""
   ]
  },
  {
   "cell_type": "code",
   "execution_count": 20,
   "id": "6e43ee24-a104-4596-ab40-707b33466de0",
   "metadata": {},
   "outputs": [
    {
     "data": {
      "text/plain": [
       "\"\\nTriple-quoted strings can be very long.\\nThey're used at the beginning of module, class, method, and function definitions.\\n\""
      ]
     },
     "execution_count": 20,
     "metadata": {},
     "output_type": "execute_result"
    }
   ],
   "source": [
    "\"\"\"\n",
    "Triple-quoted strings can be very long.\n",
    "They're used at the beginning of module, class, method, and function definitions.\n",
    "\"\"\""
   ]
  },
  {
   "cell_type": "markdown",
   "id": "fb20caac-311a-4793-862a-1cf35e0c16a5",
   "metadata": {},
   "source": [
    "Note that Python has a preferred \"canonical\" display for strings. It uses single apostrophe strings. "
   ]
  },
  {
   "cell_type": "markdown",
   "id": "8643712b-90ab-49b0-b638-d65c0974797b",
   "metadata": {},
   "source": [
    "## String Transformations"
   ]
  },
  {
   "cell_type": "code",
   "execution_count": 21,
   "id": "6433a9ed-7382-413e-ae6f-df68d03682b3",
   "metadata": {},
   "outputs": [],
   "source": [
    "s = \"here's some data.\""
   ]
  },
  {
   "cell_type": "code",
   "execution_count": 22,
   "id": "9f13af7b-7481-4297-8750-2b509c837097",
   "metadata": {},
   "outputs": [
    {
     "data": {
      "text/plain": [
       "\"Here'S Some Data.\""
      ]
     },
     "execution_count": 22,
     "metadata": {},
     "output_type": "execute_result"
    }
   ],
   "source": [
    "s.title()"
   ]
  },
  {
   "cell_type": "code",
   "execution_count": 23,
   "id": "0b38a1bf-68cb-4ce5-b5c8-b98723c5fe91",
   "metadata": {},
   "outputs": [
    {
     "data": {
      "text/plain": [
       "\"HERE'S SOME DATA.\""
      ]
     },
     "execution_count": 23,
     "metadata": {},
     "output_type": "execute_result"
    }
   ],
   "source": [
    "s.upper()"
   ]
  },
  {
   "cell_type": "code",
   "execution_count": 24,
   "id": "01a72209-02f8-4a14-ba1e-2b5cc35edfe6",
   "metadata": {},
   "outputs": [
    {
     "data": {
      "text/plain": [
       "[\"here's\", 'some', 'data.']"
      ]
     },
     "execution_count": 24,
     "metadata": {},
     "output_type": "execute_result"
    }
   ],
   "source": [
    "s.split()"
   ]
  },
  {
   "cell_type": "markdown",
   "id": "ea779ea3-a566-46ea-a1b3-65be4658d75c",
   "metadata": {},
   "source": [
    "The []'s indicate a list object, we'll return to this below."
   ]
  },
  {
   "cell_type": "code",
   "execution_count": 25,
   "id": "4c16f0e7-ae69-470c-b2f5-9c1a2e3d89ed",
   "metadata": {},
   "outputs": [
    {
     "data": {
      "text/plain": [
       "4"
      ]
     },
     "execution_count": 25,
     "metadata": {},
     "output_type": "execute_result"
    }
   ],
   "source": [
    "s.index(\"'\")"
   ]
  },
  {
   "cell_type": "code",
   "execution_count": 26,
   "id": "be050f75-8887-4bde-94df-8e109d6b71af",
   "metadata": {},
   "outputs": [
    {
     "data": {
      "text/plain": [
       "\"'\""
      ]
     },
     "execution_count": 26,
     "metadata": {},
     "output_type": "execute_result"
    }
   ],
   "source": [
    "s[4]"
   ]
  },
  {
   "cell_type": "markdown",
   "id": "5b2eedd9-bb65-4986-bb3d-79c5af22fcee",
   "metadata": {},
   "source": [
    "This selects the 4th position of the string, ``s``. "
   ]
  },
  {
   "cell_type": "markdown",
   "id": "7fd3979a-e542-418d-a9ef-3142ba675eca",
   "metadata": {},
   "source": [
    "## Immutability\n",
    "\n",
    "Strings are immutable. Like numbers, they have no internal state to change.\n",
    "\n",
    "String transformations create new strings.\n",
    "\n",
    "The unused old string is removed from memory when no longer needed."
   ]
  },
  {
   "cell_type": "markdown",
   "id": "d3466897-5040-42b2-afd7-63d77caf541f",
   "metadata": {},
   "source": [
    "## Fancy f-strings"
   ]
  },
  {
   "cell_type": "code",
   "execution_count": 27,
   "id": "b6d48212-a4a9-420f-a85b-c4c2f5037693",
   "metadata": {},
   "outputs": [],
   "source": [
    "n = 355\n",
    "d = 113"
   ]
  },
  {
   "cell_type": "code",
   "execution_count": 28,
   "id": "e99ad897-cd57-4bab-abec-fb1de80771ca",
   "metadata": {},
   "outputs": [
    {
     "data": {
      "text/plain": [
       "'n=355, d=113: n/d=3.1415929203539825'"
      ]
     },
     "execution_count": 28,
     "metadata": {},
     "output_type": "execute_result"
    }
   ],
   "source": [
    "f\"{n=}, {d=}: {n/d=}\""
   ]
  },
  {
   "cell_type": "code",
   "execution_count": 29,
   "id": "1f03c48b-7a98-4bfe-bf7d-e21deaaac9fb",
   "metadata": {},
   "outputs": [
    {
     "data": {
      "text/plain": [
       "'355 / 113 = 3.141593'"
      ]
     },
     "execution_count": 29,
     "metadata": {},
     "output_type": "execute_result"
    }
   ],
   "source": [
    "f\"{n} / {d} = {n/d:.6f}\""
   ]
  },
  {
   "cell_type": "markdown",
   "id": "bf647545-3397-4976-9ac2-09c4ec4c3e63",
   "metadata": {},
   "source": [
    "## Equality Tests\n",
    "\n",
    "Unlike some languages, Python uses ``==``."
   ]
  },
  {
   "cell_type": "code",
   "execution_count": 30,
   "id": "59e310bc-ab36-4654-9d39-94a755f5baf3",
   "metadata": {},
   "outputs": [],
   "source": [
    "s_1 = \"Some String\"\n",
    "s_2a = \"Some \"\n",
    "s_2b = \"String\""
   ]
  },
  {
   "cell_type": "code",
   "execution_count": 31,
   "id": "1540c43f-aa80-4ea5-969b-a92172593e7d",
   "metadata": {},
   "outputs": [
    {
     "data": {
      "text/plain": [
       "True"
      ]
     },
     "execution_count": 31,
     "metadata": {},
     "output_type": "execute_result"
    }
   ],
   "source": [
    "s_1 == s_2a + s_2b"
   ]
  },
  {
   "cell_type": "markdown",
   "id": "18ec53b5-f777-4f4e-a770-bcf56ea4a45c",
   "metadata": {},
   "source": [
    "The ``is`` tests asks if these are the same object.\n",
    "\n",
    "They're not. The ``id()`` function reveals their internal object ID's are distinct."
   ]
  },
  {
   "cell_type": "code",
   "execution_count": 32,
   "id": "7ff1dd16-faf4-41ed-89d7-6aae733c0d09",
   "metadata": {},
   "outputs": [
    {
     "data": {
      "text/plain": [
       "False"
      ]
     },
     "execution_count": 32,
     "metadata": {},
     "output_type": "execute_result"
    }
   ],
   "source": [
    "s_1 is  s_2a + s_2b"
   ]
  },
  {
   "cell_type": "code",
   "execution_count": 33,
   "id": "dfb947e7-3d9b-473a-a465-608fb175e216",
   "metadata": {},
   "outputs": [
    {
     "data": {
      "text/plain": [
       "(140579705663344, 140579705546928)"
      ]
     },
     "execution_count": 33,
     "metadata": {},
     "output_type": "execute_result"
    }
   ],
   "source": [
    "id(s_1), id(s_2a + s_2b)"
   ]
  },
  {
   "cell_type": "markdown",
   "id": "c4ada537-b7e6-4606-9306-c026a87ccb58",
   "metadata": {},
   "source": [
    "## Raw Strings"
   ]
  },
  {
   "cell_type": "code",
   "execution_count": 34,
   "id": "68390fd7-f008-47d2-8355-27d0fbc021ff",
   "metadata": {},
   "outputs": [
    {
     "data": {
      "text/plain": [
       "'This has \\\\t in it'"
      ]
     },
     "execution_count": 34,
     "metadata": {},
     "output_type": "execute_result"
    }
   ],
   "source": [
    "r\"This has \\t in it\""
   ]
  },
  {
   "cell_type": "code",
   "execution_count": 35,
   "id": "7a596a87-1d37-4916-9f90-9b85cef12803",
   "metadata": {},
   "outputs": [
    {
     "name": "stdout",
     "output_type": "stream",
     "text": [
      "This has \\t in it\n"
     ]
    }
   ],
   "source": [
    "print(r\"This has \\t in it\")"
   ]
  },
  {
   "cell_type": "code",
   "execution_count": 36,
   "id": "482f1bc7-d318-481f-932a-5c43841359df",
   "metadata": {},
   "outputs": [
    {
     "data": {
      "text/plain": [
       "'This has \\t in it'"
      ]
     },
     "execution_count": 36,
     "metadata": {},
     "output_type": "execute_result"
    }
   ],
   "source": [
    "\"This has \\t in it\""
   ]
  },
  {
   "cell_type": "code",
   "execution_count": 37,
   "id": "0ee098c0-2f42-4a73-bddd-c178f352dd0e",
   "metadata": {},
   "outputs": [
    {
     "name": "stdout",
     "output_type": "stream",
     "text": [
      "This has \t in it\n"
     ]
    }
   ],
   "source": [
    "print(\"This has \\t in it\")"
   ]
  },
  {
   "cell_type": "markdown",
   "id": "88599516-dd76-42d4-a9f9-ee61b36d63d2",
   "metadata": {},
   "source": [
    "Python uses \"escape\" codes used to create characters not on your keyboard.\n",
    "\n",
    "A few of these overlap with regular expressions.\n",
    "\n",
    "Raw strings don't process escape codes. They leave the ``\\`` in place."
   ]
  },
  {
   "cell_type": "code",
   "execution_count": 38,
   "id": "5ae3ea16-714f-4670-ae2c-5edf2e4bf435",
   "metadata": {},
   "outputs": [
    {
     "data": {
      "text/plain": [
       "'This is a ⌘ Symbol'"
      ]
     },
     "execution_count": 38,
     "metadata": {},
     "output_type": "execute_result"
    }
   ],
   "source": [
    "\"This is a \\N{PLACE OF INTEREST SIGN} Symbol\""
   ]
  },
  {
   "cell_type": "code",
   "execution_count": 39,
   "id": "5f806742-07c8-4e51-9e38-0c592c1e6a7c",
   "metadata": {},
   "outputs": [
    {
     "data": {
      "text/plain": [
       "'Captured ♚ !'"
      ]
     },
     "execution_count": 39,
     "metadata": {},
     "output_type": "execute_result"
    }
   ],
   "source": [
    "my_piece = \"\\u265A\"\n",
    "f\"Captured {my_piece} \\u0021\""
   ]
  },
  {
   "cell_type": "markdown",
   "id": "f285932c-4ed6-4b98-ace1-91bb9a1fc848",
   "metadata": {},
   "source": [
    "## Bytes\n",
    "\n",
    "These are sequences of numbers in the range 0 to 255. ASCII characters can be used.\n",
    "\n",
    "Any string literal values must have a ``b`` prefix. "
   ]
  },
  {
   "cell_type": "code",
   "execution_count": 40,
   "id": "862fa05f-76eb-432b-a15e-b74fe11dd4ce",
   "metadata": {},
   "outputs": [
    {
     "data": {
      "text/plain": [
       "b'\\these a\\re \\x08ytes'"
      ]
     },
     "execution_count": 40,
     "metadata": {},
     "output_type": "execute_result"
    }
   ],
   "source": [
    "b'\\these a\\re \\bytes'"
   ]
  },
  {
   "cell_type": "code",
   "execution_count": 41,
   "id": "991a0e7c-48a0-4521-af53-f7c8733549d3",
   "metadata": {},
   "outputs": [
    {
     "data": {
      "text/plain": [
       "b'ASCII'"
      ]
     },
     "execution_count": 41,
     "metadata": {},
     "output_type": "execute_result"
    }
   ],
   "source": [
    "bytes([65, 83, 67, 73, 73])"
   ]
  },
  {
   "cell_type": "markdown",
   "id": "959198b1-78bd-4a9e-99bf-55f5105d5ff6",
   "metadata": {},
   "source": [
    "We built a ``bytes`` object from a list of individual integer values. The ``[]`` created a list."
   ]
  },
  {
   "cell_type": "code",
   "execution_count": 42,
   "id": "93af1286-78a9-4def-a152-d24a4700d5d5",
   "metadata": {},
   "outputs": [
    {
     "data": {
      "text/plain": [
       "115"
      ]
     },
     "execution_count": 42,
     "metadata": {},
     "output_type": "execute_result"
    }
   ],
   "source": [
    "data = b'some bytes'\n",
    "data[0]"
   ]
  },
  {
   "cell_type": "markdown",
   "id": "9dc77b7f-e55f-4959-bdd1-d5f3feed0908",
   "metadata": {},
   "source": [
    "We examined the byte in position 0. "
   ]
  },
  {
   "cell_type": "code",
   "execution_count": 43,
   "id": "c5effc2b-b372-4e6a-8993-4a1df7852960",
   "metadata": {},
   "outputs": [
    {
     "data": {
      "text/plain": [
       "b's'"
      ]
     },
     "execution_count": 43,
     "metadata": {},
     "output_type": "execute_result"
    }
   ],
   "source": [
    "bytes([115])"
   ]
  },
  {
   "cell_type": "markdown",
   "id": "c9d4f3e3-0c92-4675-a072-fe15c0c0489b",
   "metadata": {},
   "source": [
    "What bytes has code 115? Python displays the ASCII-coded ``b's'`` as its canonical short-hand."
   ]
  },
  {
   "cell_type": "markdown",
   "id": "b0a412f3-5881-4015-817d-54992847610c",
   "metadata": {},
   "source": [
    "## 3.  Booleans\n",
    "\n",
    "Values are ``True`` and ``False``. \n",
    "Operators are ``and``, ``or``, and ``not``."
   ]
  },
  {
   "cell_type": "code",
   "execution_count": 44,
   "id": "e803e47f-3b07-4592-8fe2-4271b3eb4a4a",
   "metadata": {},
   "outputs": [
    {
     "data": {
      "text/plain": [
       "'True and True=True, True and False=False, False and True=False, False and False=False'"
      ]
     },
     "execution_count": 44,
     "metadata": {},
     "output_type": "execute_result"
    }
   ],
   "source": [
    "f\"{True and True=}, {True and False=}, {False and True=}, {False and False=}\""
   ]
  },
  {
   "cell_type": "code",
   "execution_count": 45,
   "id": "a1c19805-0b03-4468-b554-28a285c30761",
   "metadata": {},
   "outputs": [
    {
     "data": {
      "text/plain": [
       "'True or True=True, True or False=True, False or True=True, False or False=False'"
      ]
     },
     "execution_count": 45,
     "metadata": {},
     "output_type": "execute_result"
    }
   ],
   "source": [
    "f\"{True or True=}, {True or False=}, {False or True=}, {False or False=}\""
   ]
  },
  {
   "cell_type": "markdown",
   "id": "3c7befcf-002e-4568-87a5-cc9b9743abcb",
   "metadata": {},
   "source": [
    "``and`` and ``or`` operators \"short circuit\". They only evaluate the right-hand side if necessary.\n",
    "\n",
    "If left-side of ``and`` is False, that's it. No need to do more.\n",
    "\n",
    "If left-side of ``or`` is True, that's it. "
   ]
  },
  {
   "cell_type": "code",
   "execution_count": 46,
   "id": "67108e4f-20f7-42bc-a0cb-29099aad90d5",
   "metadata": {},
   "outputs": [
    {
     "data": {
      "text/plain": [
       "False"
      ]
     },
     "execution_count": 46,
     "metadata": {},
     "output_type": "execute_result"
    }
   ],
   "source": [
    "False and 2/0"
   ]
  },
  {
   "cell_type": "code",
   "execution_count": 47,
   "id": "258eddfa-2a4f-4bb9-9ec5-4c4bc52a8cee",
   "metadata": {
    "tags": [
     "raises-exception"
    ]
   },
   "outputs": [
    {
     "ename": "ZeroDivisionError",
     "evalue": "division by zero",
     "output_type": "error",
     "traceback": [
      "\u001b[0;31m---------------------------------------------------------------------------\u001b[0m",
      "\u001b[0;31mZeroDivisionError\u001b[0m                         Traceback (most recent call last)",
      "\u001b[0;32m<ipython-input-47-7ce82ce9d4c9>\u001b[0m in \u001b[0;36m<module>\u001b[0;34m\u001b[0m\n\u001b[0;32m----> 1\u001b[0;31m \u001b[0;32mTrue\u001b[0m \u001b[0;32mand\u001b[0m \u001b[0;36m2\u001b[0m\u001b[0;34m/\u001b[0m\u001b[0;36m0\u001b[0m\u001b[0;34m\u001b[0m\u001b[0;34m\u001b[0m\u001b[0m\n\u001b[0m",
      "\u001b[0;31mZeroDivisionError\u001b[0m: division by zero"
     ]
    }
   ],
   "source": [
    "True and 2/0"
   ]
  },
  {
   "cell_type": "markdown",
   "id": "17288509-89cf-45e2-8da5-585c146519f3",
   "metadata": {},
   "source": [
    "Further.\n",
    "\n",
    "All Python objects have a \"truthiness\" to them. Most objects are True. A few objects are False.\n",
    "\n",
    "False are values like ``0``, ``[]``, ``{}``, ``set()``, ``\"\"``."
   ]
  },
  {
   "cell_type": "code",
   "execution_count": 48,
   "id": "c02d9998-7211-45dc-8f10-897e151f32ca",
   "metadata": {},
   "outputs": [
    {
     "data": {
      "text/plain": [
       "'Hello'"
      ]
     },
     "execution_count": 48,
     "metadata": {},
     "output_type": "execute_result"
    }
   ],
   "source": [
    "default = \"Hello\"\n",
    "\n",
    "user_input = \"\"\n",
    "user_input or default"
   ]
  },
  {
   "cell_type": "code",
   "execution_count": 49,
   "id": "90104bce-df70-40cb-942d-9e188bc5dd65",
   "metadata": {},
   "outputs": [
    {
     "data": {
      "text/plain": [
       "'Welcome'"
      ]
     },
     "execution_count": 49,
     "metadata": {},
     "output_type": "execute_result"
    }
   ],
   "source": [
    "user_input = \"Welcome\"\n",
    "user_input or default"
   ]
  },
  {
   "cell_type": "markdown",
   "id": "13320988-5b1d-4fee-8e45-62c291f48a56",
   "metadata": {
    "tags": []
   },
   "source": [
    "## 4. Tuples\n",
    "\n",
    "A fixed-length collection of values. Think ordered pairs or ordered triples. There's no defined limit on the size; only the limit imposed by finite memory resources.\n",
    "\n",
    "Typle literals must have ``,``. They're often wrapped in ``()`` or ``tuple()``. An empty tuple is ``()``."
   ]
  },
  {
   "cell_type": "code",
   "execution_count": 50,
   "id": "3e7fece8-002d-4464-b123-fd7b9264761b",
   "metadata": {},
   "outputs": [],
   "source": [
    "rgb = (0xc6, 0x2d, 0x42)"
   ]
  },
  {
   "cell_type": "code",
   "execution_count": 51,
   "id": "f42d49f9-b5fb-4c8a-b163-d37c9271dfa7",
   "metadata": {},
   "outputs": [
    {
     "data": {
      "text/plain": [
       "(198, 45, 66)"
      ]
     },
     "execution_count": 51,
     "metadata": {},
     "output_type": "execute_result"
    }
   ],
   "source": [
    "rgb"
   ]
  },
  {
   "cell_type": "markdown",
   "id": "f0ea525f-c089-45c5-bbbe-0f861aa3e67f",
   "metadata": {},
   "source": [
    "Singleton tuple special case"
   ]
  },
  {
   "cell_type": "code",
   "execution_count": 52,
   "id": "e1e447b0-a5d7-4777-8cd7-b17c6a6765bf",
   "metadata": {},
   "outputs": [
    {
     "data": {
      "text/plain": [
       "(42,)"
      ]
     },
     "execution_count": 52,
     "metadata": {},
     "output_type": "execute_result"
    }
   ],
   "source": [
    "t = (42,)\n",
    "t"
   ]
  },
  {
   "cell_type": "markdown",
   "id": "c91e16bf-85c9-4257-97bd-085e445ce8b4",
   "metadata": {},
   "source": [
    "## Tuples and assignment"
   ]
  },
  {
   "cell_type": "code",
   "execution_count": 53,
   "id": "263a82f2-d7d6-46d7-9729-a9cca8249f05",
   "metadata": {},
   "outputs": [],
   "source": [
    "here = (35.354490, -82.527040)"
   ]
  },
  {
   "cell_type": "code",
   "execution_count": 54,
   "id": "d3130a67-40f9-427b-bf15-4e912db4e68a",
   "metadata": {},
   "outputs": [],
   "source": [
    "lat, lon = here"
   ]
  },
  {
   "cell_type": "markdown",
   "id": "5debc864-df2a-4e2e-a7e3-c1966be8228f",
   "metadata": {},
   "source": [
    "Note the way the assignment statement decomposes the tuple"
   ]
  },
  {
   "cell_type": "code",
   "execution_count": 55,
   "id": "23e1dfbb-5a0d-4e09-af9f-935837acd4ab",
   "metadata": {},
   "outputs": [
    {
     "data": {
      "text/plain": [
       "35.35449"
      ]
     },
     "execution_count": 55,
     "metadata": {},
     "output_type": "execute_result"
    }
   ],
   "source": [
    "lat"
   ]
  },
  {
   "cell_type": "code",
   "execution_count": 56,
   "id": "c67d11ea-65f9-4845-a68f-a9dc9a3858ec",
   "metadata": {},
   "outputs": [
    {
     "data": {
      "text/plain": [
       "-82.52704"
      ]
     },
     "execution_count": 56,
     "metadata": {},
     "output_type": "execute_result"
    }
   ],
   "source": [
    "lon"
   ]
  },
  {
   "cell_type": "code",
   "execution_count": 57,
   "id": "27b09ee0-dc01-4456-b6ae-a82fd7c38e3d",
   "metadata": {},
   "outputs": [
    {
     "data": {
      "text/plain": [
       "35.35449"
      ]
     },
     "execution_count": 57,
     "metadata": {},
     "output_type": "execute_result"
    }
   ],
   "source": [
    "here[0]"
   ]
  },
  {
   "cell_type": "code",
   "execution_count": 58,
   "id": "a34273d5-8648-4297-bf4b-f5e1084fcbc7",
   "metadata": {},
   "outputs": [
    {
     "data": {
      "text/plain": [
       "-82.52704"
      ]
     },
     "execution_count": 58,
     "metadata": {},
     "output_type": "execute_result"
    }
   ],
   "source": [
    "here[1]"
   ]
  },
  {
   "cell_type": "markdown",
   "id": "7af0670e-9461-420d-a500-96dd9bb90ba3",
   "metadata": {},
   "source": [
    "## Immutability\n",
    "\n",
    "You cannot assign a new value into the middle of one."
   ]
  },
  {
   "cell_type": "code",
   "execution_count": 59,
   "id": "ca85ac64-d091-416a-8b0a-336ed569898b",
   "metadata": {
    "tags": [
     "raises-exception"
    ]
   },
   "outputs": [
    {
     "ename": "TypeError",
     "evalue": "'tuple' object does not support item assignment",
     "output_type": "error",
     "traceback": [
      "\u001b[0;31m---------------------------------------------------------------------------\u001b[0m",
      "\u001b[0;31mTypeError\u001b[0m                                 Traceback (most recent call last)",
      "\u001b[0;32m<ipython-input-59-399d59f6096a>\u001b[0m in \u001b[0;36m<module>\u001b[0;34m\u001b[0m\n\u001b[0;32m----> 1\u001b[0;31m \u001b[0mhere\u001b[0m\u001b[0;34m[\u001b[0m\u001b[0;36m0\u001b[0m\u001b[0;34m]\u001b[0m \u001b[0;34m=\u001b[0m \u001b[0;36m35.4\u001b[0m\u001b[0;34m\u001b[0m\u001b[0;34m\u001b[0m\u001b[0m\n\u001b[0m",
      "\u001b[0;31mTypeError\u001b[0m: 'tuple' object does not support item assignment"
     ]
    }
   ],
   "source": [
    "here[0] = 35.4"
   ]
  },
  {
   "cell_type": "markdown",
   "id": "29542643-e1be-4422-a323-da1576615821",
   "metadata": {},
   "source": [
    "You can, however, create a new tuple from pieces and parts of other tuples.\n",
    "\n",
    "This works because tuples must have a fixed size with fixed semantics for each item in the tuple.\n",
    "\n",
    "When in doubt, think (r,g,b) or (lat, lon) or (x,y,z) or some other fixed collection of values."
   ]
  },
  {
   "cell_type": "code",
   "execution_count": 60,
   "id": "f4703ff2-66df-4145-a608-6e8f6cad2cd7",
   "metadata": {},
   "outputs": [],
   "source": [
    "new_here = (35.4, here[1])"
   ]
  },
  {
   "cell_type": "code",
   "execution_count": 61,
   "id": "304fb0bc-c456-46b7-80db-f863f7f1a195",
   "metadata": {},
   "outputs": [
    {
     "data": {
      "text/plain": [
       "(35.35449, -82.52704)"
      ]
     },
     "execution_count": 61,
     "metadata": {},
     "output_type": "execute_result"
    }
   ],
   "source": [
    "here"
   ]
  },
  {
   "cell_type": "code",
   "execution_count": 62,
   "id": "4d99b8e8-2197-427e-8bda-11e0513a8b8c",
   "metadata": {},
   "outputs": [
    {
     "data": {
      "text/plain": [
       "(35.4, -82.52704)"
      ]
     },
     "execution_count": 62,
     "metadata": {},
     "output_type": "execute_result"
    }
   ],
   "source": [
    "new_here"
   ]
  },
  {
   "cell_type": "markdown",
   "id": "4fb93da3-5695-4864-b449-f9a73c26b70d",
   "metadata": {},
   "source": [
    "## Tuple Data Types"
   ]
  },
  {
   "cell_type": "markdown",
   "id": "d0fcfa61-f6b4-4d57-ac19-86ce5c07c002",
   "metadata": {},
   "source": [
    "Types can be mixed."
   ]
  },
  {
   "cell_type": "code",
   "execution_count": 63,
   "id": "666599f4-8415-4c10-a104-29e4881452b5",
   "metadata": {},
   "outputs": [],
   "source": [
    "color = (\"brick red\", (0xc6, 0x2d, 0x42))"
   ]
  },
  {
   "cell_type": "markdown",
   "id": "5fe249a9-c94e-44fe-927a-8fef7536440f",
   "metadata": {},
   "source": [
    "The ``color`` tuple has two elements: a string and a tuple.\n",
    "\n",
    "Mixed types work because tuples have a fixed size, and we need to agree on the order of the items.\n",
    "\n",
    "We describe it like this in a type annotation."
   ]
  },
  {
   "cell_type": "code",
   "execution_count": 64,
   "id": "52157f5f-16d0-4a73-99fb-cf2288c2cefc",
   "metadata": {},
   "outputs": [
    {
     "data": {
      "text/plain": [
       "tuple[str, tuple[int, int, int]]"
      ]
     },
     "execution_count": 64,
     "metadata": {},
     "output_type": "execute_result"
    }
   ],
   "source": [
    "tuple[str, tuple[int, int, int]]"
   ]
  },
  {
   "cell_type": "markdown",
   "id": "817fbcce-1d80-411f-8a42-24852895329f",
   "metadata": {},
   "source": [
    "The notebook doesn't use the annotations. Other tools do. We'll see this in the last section when we talk about tools and workflows."
   ]
  },
  {
   "cell_type": "markdown",
   "id": "2f317f79-91a1-4d36-ac5a-7beaf63d48a3",
   "metadata": {},
   "source": [
    "## 5a. Sets\n",
    "\n",
    "Essential math. Set Intersection, Union, Difference, Symmetric Difference.\n",
    "\n",
    "\\\\[\\cap, \\cup, \\setminus, \\triangle \\\\]\n",
    "\n",
    "While mixed types are allowed, you won't be happy with it. \n",
    "\n",
    "Set literals are wrapped in ``{}``. \n",
    "\n",
    "Note there's no literal value for an empty use, use ``set()``."
   ]
  },
  {
   "cell_type": "code",
   "execution_count": 65,
   "id": "ace165c2-0eb3-487b-9c8a-7ab7711bd27e",
   "metadata": {},
   "outputs": [],
   "source": [
    "e = {2, 4, 6, 8}\n",
    "f = {1, 1, 2, 3, 5, 8}"
   ]
  },
  {
   "cell_type": "markdown",
   "id": "9be3e8d2-8838-43ec-a909-c45c797b2901",
   "metadata": {},
   "source": [
    "Intersection \\\\( e \\cap f \\\\)"
   ]
  },
  {
   "cell_type": "code",
   "execution_count": 66,
   "id": "65f6b994-5b37-44fa-a77e-7173a8349c85",
   "metadata": {},
   "outputs": [
    {
     "data": {
      "text/plain": [
       "{2, 8}"
      ]
     },
     "execution_count": 66,
     "metadata": {},
     "output_type": "execute_result"
    }
   ],
   "source": [
    "e & f"
   ]
  },
  {
   "cell_type": "markdown",
   "id": "4b8c3776-e3d2-47f2-8f85-4e072e581f81",
   "metadata": {},
   "source": [
    "Union \\\\( e \\cup f \\\\)"
   ]
  },
  {
   "cell_type": "code",
   "execution_count": 67,
   "id": "96ec8cfc-b205-4880-a769-57862ba801da",
   "metadata": {},
   "outputs": [
    {
     "data": {
      "text/plain": [
       "{1, 2, 3, 4, 5, 6, 8}"
      ]
     },
     "execution_count": 67,
     "metadata": {},
     "output_type": "execute_result"
    }
   ],
   "source": [
    "e | f"
   ]
  },
  {
   "cell_type": "markdown",
   "id": "bac368f1-bcdb-445b-b488-d4923b94a896",
   "metadata": {},
   "source": [
    "Subtraction \\\\( e \\setminus f \\\\)"
   ]
  },
  {
   "cell_type": "code",
   "execution_count": 68,
   "id": "586bb9c7-57bf-4c2a-95a5-4c9a3288e3c4",
   "metadata": {},
   "outputs": [
    {
     "data": {
      "text/plain": [
       "{4, 6}"
      ]
     },
     "execution_count": 68,
     "metadata": {},
     "output_type": "execute_result"
    }
   ],
   "source": [
    "e - f"
   ]
  },
  {
   "cell_type": "markdown",
   "id": "fc9e0cdf-7557-4fa2-bfca-49f98abeff33",
   "metadata": {},
   "source": [
    "Symmetric Difference \\\\(e \\triangle f\\\\)"
   ]
  },
  {
   "cell_type": "code",
   "execution_count": 69,
   "id": "6996a6d6-66f1-4b91-8c0b-f6e1cd2743a6",
   "metadata": {},
   "outputs": [
    {
     "data": {
      "text/plain": [
       "{1, 3, 4, 5, 6}"
      ]
     },
     "execution_count": 69,
     "metadata": {},
     "output_type": "execute_result"
    }
   ],
   "source": [
    "e ^ f"
   ]
  },
  {
   "cell_type": "markdown",
   "id": "e3c3b126-3c0d-40d2-8bfe-cfe3ff81ce8a",
   "metadata": {},
   "source": [
    "## Mutability\n",
    "\n",
    "Sets are mutable -- you can update a set."
   ]
  },
  {
   "cell_type": "code",
   "execution_count": 70,
   "id": "15ceca01-bfa9-4e9f-8619-ea916987a7e9",
   "metadata": {},
   "outputs": [
    {
     "data": {
      "text/plain": [
       "{1, 2, 3, 4, 5, 6, 8}"
      ]
     },
     "execution_count": 70,
     "metadata": {},
     "output_type": "execute_result"
    }
   ],
   "source": [
    "values = set()\n",
    "values.update(e)\n",
    "values.update(f)\n",
    "values"
   ]
  },
  {
   "cell_type": "code",
   "execution_count": 71,
   "id": "70baf8b6-3cac-4838-b14c-d1322a01d1f5",
   "metadata": {},
   "outputs": [
    {
     "data": {
      "text/plain": [
       "{3, 5}"
      ]
     },
     "execution_count": 71,
     "metadata": {},
     "output_type": "execute_result"
    }
   ],
   "source": [
    "values.intersection_update({3, 5, 7, 9})\n",
    "values"
   ]
  },
  {
   "cell_type": "markdown",
   "id": "68b4c3bc-004f-41b0-ba5e-050890d8bf08",
   "metadata": {},
   "source": [
    "## Set Elements\n",
    "\n",
    "Set elements must be immutable: numbers, strings, tuples"
   ]
  },
  {
   "cell_type": "code",
   "execution_count": 72,
   "id": "c69d471d-79bd-407a-975d-29774ccc111c",
   "metadata": {},
   "outputs": [
    {
     "data": {
      "text/plain": [
       "{' ', 'c', 'd', 'e', 'i', 'l', 'n', 'r', 's', 't'}"
      ]
     },
     "execution_count": 72,
     "metadata": {},
     "output_type": "execute_result"
    }
   ],
   "source": [
    "s = set(\"distinct letters\")\n",
    "s"
   ]
  },
  {
   "cell_type": "code",
   "execution_count": 73,
   "id": "07489043-ce23-43c2-aeeb-3fcbe5c38343",
   "metadata": {},
   "outputs": [
    {
     "data": {
      "text/plain": [
       "{'c', 'd', 'e', 'i', 'l', 'n', 'r', 's', 't'}"
      ]
     },
     "execution_count": 73,
     "metadata": {},
     "output_type": "execute_result"
    }
   ],
   "source": [
    "s.remove(' ')\n",
    "s"
   ]
  },
  {
   "cell_type": "markdown",
   "id": "dd7994d0-8f28-4f50-a922-188c708bc15b",
   "metadata": {},
   "source": [
    "Lets make three separate set objects."
   ]
  },
  {
   "cell_type": "code",
   "execution_count": 74,
   "id": "04dfb360-8649-42e5-a34e-0dc9542ec75b",
   "metadata": {},
   "outputs": [],
   "source": [
    "empty = set()\n",
    "singleton_string = {'one string'}\n",
    "singleton_int = {42}"
   ]
  },
  {
   "cell_type": "markdown",
   "id": "91693804-a017-48b6-b381-4b0289c494d0",
   "metadata": {},
   "source": [
    "They work as expected."
   ]
  },
  {
   "cell_type": "code",
   "execution_count": 75,
   "id": "fc1beb8c-1d6f-49fb-a5ab-31b8838cda66",
   "metadata": {},
   "outputs": [
    {
     "data": {
      "text/plain": [
       "{42, 'one string'}"
      ]
     },
     "execution_count": 75,
     "metadata": {},
     "output_type": "execute_result"
    }
   ],
   "source": [
    "empty | singleton_string | singleton_int"
   ]
  },
  {
   "cell_type": "markdown",
   "id": "f4a4ebfc-de23-4d8c-a749-5fc0a845659d",
   "metadata": {},
   "source": [
    "Now, let's try to create a set that contains a mutable set and two other immutable objects.\n",
    "\n",
    "\\\\[\n",
    "    \\bigl\\{ \\{ \\}, 42, \\text{one string} \\bigr\\}\n",
    "\\\\]"
   ]
  },
  {
   "cell_type": "code",
   "execution_count": 76,
   "id": "1646e87d-228b-469a-bf71-7767a2862286",
   "metadata": {
    "tags": [
     "raises-exception"
    ]
   },
   "outputs": [
    {
     "ename": "TypeError",
     "evalue": "unhashable type: 'set'",
     "output_type": "error",
     "traceback": [
      "\u001b[0;31m---------------------------------------------------------------------------\u001b[0m",
      "\u001b[0;31mTypeError\u001b[0m                                 Traceback (most recent call last)",
      "\u001b[0;32m<ipython-input-76-78f04e15492c>\u001b[0m in \u001b[0;36m<module>\u001b[0;34m\u001b[0m\n\u001b[0;32m----> 1\u001b[0;31m \u001b[0;34m{\u001b[0m\u001b[0mempty\u001b[0m\u001b[0;34m,\u001b[0m \u001b[0;36m42\u001b[0m\u001b[0;34m,\u001b[0m \u001b[0;34m'one string'\u001b[0m\u001b[0;34m}\u001b[0m\u001b[0;34m\u001b[0m\u001b[0;34m\u001b[0m\u001b[0m\n\u001b[0m",
      "\u001b[0;31mTypeError\u001b[0m: unhashable type: 'set'"
     ]
    }
   ],
   "source": [
    "{empty, 42, 'one string'}"
   ]
  },
  {
   "cell_type": "markdown",
   "id": "0691028e-8726-480f-b948-e06e9af62f55",
   "metadata": {},
   "source": [
    "The \"unhashable\" is a hint as to why. We'll return to this when we talk about dictionaries."
   ]
  },
  {
   "cell_type": "markdown",
   "id": "72f1910c-4660-499c-823c-10ccc65edc9b",
   "metadata": {},
   "source": [
    "## 5b. Lists\n",
    "\n",
    "Ordered sequence of objects.\n",
    "\n",
    "They can be of mixed types, but that way lies madness. You're generally happiest with lists of a uniform type.\n",
    "\n",
    "Literals are wrapped in `[]`.  An empty list is either `[]` or `list()`."
   ]
  },
  {
   "cell_type": "code",
   "execution_count": 77,
   "id": "231ddf44-e4ed-4491-a1fd-406c6fd6bcb6",
   "metadata": {},
   "outputs": [
    {
     "data": {
      "text/plain": [
       "[1, 1, 2]"
      ]
     },
     "execution_count": 77,
     "metadata": {},
     "output_type": "execute_result"
    }
   ],
   "source": [
    "fib = [1, 1]\n",
    "fib += [2]\n",
    "fib"
   ]
  },
  {
   "cell_type": "code",
   "execution_count": 78,
   "id": "ab0a32ac-a990-4cad-9e28-d7ed7f38f105",
   "metadata": {},
   "outputs": [
    {
     "data": {
      "text/plain": [
       "3"
      ]
     },
     "execution_count": 78,
     "metadata": {},
     "output_type": "execute_result"
    }
   ],
   "source": [
    "len(fib)"
   ]
  },
  {
   "cell_type": "markdown",
   "id": "a96f894e-20ce-44c4-89c7-96770c222843",
   "metadata": {},
   "source": [
    "Index values are the position of an item in the list. Start from zero. End just before the length of the list.\n",
    "\n",
    "Length 3: Index positions are 0, 1, and 2."
   ]
  },
  {
   "cell_type": "code",
   "execution_count": 79,
   "id": "f5318d32-dab9-4653-b757-4e756f7c1b4d",
   "metadata": {},
   "outputs": [
    {
     "data": {
      "text/plain": [
       "1"
      ]
     },
     "execution_count": 79,
     "metadata": {},
     "output_type": "execute_result"
    }
   ],
   "source": [
    "fib[0]"
   ]
  },
  {
   "cell_type": "code",
   "execution_count": 80,
   "id": "ab6debb4-ad74-452d-99c0-8e767869e715",
   "metadata": {},
   "outputs": [
    {
     "data": {
      "text/plain": [
       "1"
      ]
     },
     "execution_count": 80,
     "metadata": {},
     "output_type": "execute_result"
    }
   ],
   "source": [
    "fib[1]"
   ]
  },
  {
   "cell_type": "code",
   "execution_count": 81,
   "id": "bbd7503c-430f-4930-bf01-1388b0a6604c",
   "metadata": {},
   "outputs": [
    {
     "data": {
      "text/plain": [
       "2"
      ]
     },
     "execution_count": 81,
     "metadata": {},
     "output_type": "execute_result"
    }
   ],
   "source": [
    "fib[2]"
   ]
  },
  {
   "cell_type": "code",
   "execution_count": 82,
   "id": "1db74415-f755-4484-bd8f-7fcc69661737",
   "metadata": {
    "tags": [
     "raises-exception"
    ]
   },
   "outputs": [
    {
     "ename": "IndexError",
     "evalue": "list index out of range",
     "output_type": "error",
     "traceback": [
      "\u001b[0;31m---------------------------------------------------------------------------\u001b[0m",
      "\u001b[0;31mIndexError\u001b[0m                                Traceback (most recent call last)",
      "\u001b[0;32m<ipython-input-82-3d34290b6da5>\u001b[0m in \u001b[0;36m<module>\u001b[0;34m\u001b[0m\n\u001b[0;32m----> 1\u001b[0;31m \u001b[0mfib\u001b[0m\u001b[0;34m[\u001b[0m\u001b[0;36m3\u001b[0m\u001b[0;34m]\u001b[0m\u001b[0;34m\u001b[0m\u001b[0;34m\u001b[0m\u001b[0m\n\u001b[0m",
      "\u001b[0;31mIndexError\u001b[0m: list index out of range"
     ]
    }
   ],
   "source": [
    "fib[3]"
   ]
  },
  {
   "cell_type": "markdown",
   "id": "8d95bd9c-b0c3-45fd-a802-03978098c56c",
   "metadata": {},
   "source": [
    "## Reverse Index\n",
    "\n",
    "Check this out. Negative index values work backwards."
   ]
  },
  {
   "cell_type": "code",
   "execution_count": 83,
   "id": "de3ed867-acd7-4825-af14-f155af804685",
   "metadata": {},
   "outputs": [
    {
     "data": {
      "text/plain": [
       "'x'"
      ]
     },
     "execution_count": 83,
     "metadata": {},
     "output_type": "execute_result"
    }
   ],
   "source": [
    "letters = \"The quick brown fox\"\n",
    "letters[-1]"
   ]
  },
  {
   "cell_type": "code",
   "execution_count": 84,
   "id": "ea25ed53-c5a1-4f21-b71d-3fed71eacd03",
   "metadata": {},
   "outputs": [
    {
     "data": {
      "text/plain": [
       "'o'"
      ]
     },
     "execution_count": 84,
     "metadata": {},
     "output_type": "execute_result"
    }
   ],
   "source": [
    "letters[-2]"
   ]
  },
  {
   "cell_type": "code",
   "execution_count": 85,
   "id": "dddaeca5-b09a-4086-ba85-0a6a4c05fd0e",
   "metadata": {},
   "outputs": [],
   "source": [
    "pal = \"9009\""
   ]
  },
  {
   "cell_type": "code",
   "execution_count": 86,
   "id": "eb9fa2b4-4476-4632-8842-13dd9fddccbf",
   "metadata": {},
   "outputs": [
    {
     "data": {
      "text/plain": [
       "True"
      ]
     },
     "execution_count": 86,
     "metadata": {},
     "output_type": "execute_result"
    }
   ],
   "source": [
    "pal[0] == pal[-1]"
   ]
  },
  {
   "cell_type": "code",
   "execution_count": 87,
   "id": "9d22edfd-b4a1-44e5-a209-2dffd26d9868",
   "metadata": {},
   "outputs": [
    {
     "data": {
      "text/plain": [
       "True"
      ]
     },
     "execution_count": 87,
     "metadata": {},
     "output_type": "execute_result"
    }
   ],
   "source": [
    "pal[1] == pal[-2]"
   ]
  },
  {
   "cell_type": "code",
   "execution_count": 88,
   "id": "eda2b24f-e22a-468e-b75f-0118dc51720e",
   "metadata": {},
   "outputs": [
    {
     "data": {
      "text/plain": [
       "True"
      ]
     },
     "execution_count": 88,
     "metadata": {},
     "output_type": "execute_result"
    }
   ],
   "source": [
    "pal[2] == pal[-3]"
   ]
  },
  {
   "cell_type": "code",
   "execution_count": 89,
   "id": "9a79d4b0-42e8-4e72-b636-1fcb139127f8",
   "metadata": {},
   "outputs": [
    {
     "data": {
      "text/plain": [
       "True"
      ]
     },
     "execution_count": 89,
     "metadata": {},
     "output_type": "execute_result"
    }
   ],
   "source": [
    "pal[3] == pal[-4]"
   ]
  },
  {
   "cell_type": "markdown",
   "id": "8c801f53-d02e-4cbd-a1e1-cdccd344774a",
   "metadata": {},
   "source": [
    "## Mutability"
   ]
  },
  {
   "cell_type": "code",
   "execution_count": 90,
   "id": "b19d1ea9-74e3-45ca-93fa-d46afbef82b2",
   "metadata": {},
   "outputs": [
    {
     "data": {
      "text/plain": [
       "[1, 1, 2, 3, 5, 8, 13]"
      ]
     },
     "execution_count": 90,
     "metadata": {},
     "output_type": "execute_result"
    }
   ],
   "source": [
    "fib = [1, 1]\n",
    "fib.append(fib[-1] + fib[-2])\n",
    "fib.append(fib[-1] + fib[-2])\n",
    "fib.append(fib[-1] + fib[-2])\n",
    "fib.append(fib[-1] + fib[-2])\n",
    "fib.append(fib[-1] + fib[-2])\n",
    "fib"
   ]
  },
  {
   "cell_type": "markdown",
   "id": "e0e6271d-3679-42db-b1ef-4247c78b7899",
   "metadata": {},
   "source": [
    "The ``append()`` method adds a single item."
   ]
  },
  {
   "cell_type": "code",
   "execution_count": 91,
   "id": "78f3c666-b75a-4052-b069-d54edc6474a0",
   "metadata": {},
   "outputs": [
    {
     "data": {
      "text/plain": [
       "['one', 'two', 'three']"
      ]
     },
     "execution_count": 91,
     "metadata": {},
     "output_type": "execute_result"
    }
   ],
   "source": [
    "words = []\n",
    "words += [\"one\"]\n",
    "words += [\"two\", \"three\"]\n",
    "words"
   ]
  },
  {
   "cell_type": "markdown",
   "id": "57edabda-bf35-4f3b-a2ce-67b0db4eba7b",
   "metadata": {},
   "source": [
    "The ``extend()`` method (and the ``+=`` assignment) grow a list with another list."
   ]
  },
  {
   "cell_type": "markdown",
   "id": "d70786e0-3344-4afc-a2b6-37a007eaaaca",
   "metadata": {},
   "source": [
    "## Sorting and Reversing\n",
    "\n",
    "We have methods to update a list to put in into order."
   ]
  },
  {
   "cell_type": "code",
   "execution_count": 92,
   "id": "7f510ef8-b20e-4a44-a4f8-1147149aaf87",
   "metadata": {},
   "outputs": [],
   "source": [
    "from random import randint"
   ]
  },
  {
   "cell_type": "code",
   "execution_count": 93,
   "id": "ac5b1159-d7ee-4b67-a522-39446879c2db",
   "metadata": {},
   "outputs": [
    {
     "data": {
      "text/plain": [
       "[4, 1, 4, 2, 1, 4, 5, 2, 5, 4]"
      ]
     },
     "execution_count": 93,
     "metadata": {},
     "output_type": "execute_result"
    }
   ],
   "source": [
    "values = [randint(1, 6) for _ in range(10)]\n",
    "values"
   ]
  },
  {
   "cell_type": "code",
   "execution_count": 94,
   "id": "1572b9b6-ccba-4398-bd1e-029bf9e62265",
   "metadata": {},
   "outputs": [],
   "source": [
    "values.sort()"
   ]
  },
  {
   "cell_type": "code",
   "execution_count": 95,
   "id": "d3490347-a0ff-4c07-b36d-1f435218551d",
   "metadata": {},
   "outputs": [
    {
     "data": {
      "text/plain": [
       "[1, 1, 2, 2, 4, 4, 4, 4, 5, 5]"
      ]
     },
     "execution_count": 95,
     "metadata": {},
     "output_type": "execute_result"
    }
   ],
   "source": [
    "values"
   ]
  },
  {
   "cell_type": "code",
   "execution_count": 96,
   "id": "d9e94a90-a09b-4216-ac95-794ae782a857",
   "metadata": {},
   "outputs": [],
   "source": [
    "values.reverse()"
   ]
  },
  {
   "cell_type": "code",
   "execution_count": 97,
   "id": "2a21d135-7bb6-4590-b88a-29bca60639cb",
   "metadata": {},
   "outputs": [
    {
     "data": {
      "text/plain": [
       "[5, 5, 4, 4, 4, 4, 2, 2, 1, 1]"
      ]
     },
     "execution_count": 97,
     "metadata": {},
     "output_type": "execute_result"
    }
   ],
   "source": [
    "values"
   ]
  },
  {
   "cell_type": "markdown",
   "id": "bb7c0e1a-5a2a-4e0c-8d96-1d0b3b356002",
   "metadata": {},
   "source": [
    "## List ordering functions\n",
    "\n",
    "The ``sorted()`` function create a new list from an old list.\n",
    "\n",
    "The ``reversed()`` function creates an \"iterator\" from which we can clone the list."
   ]
  },
  {
   "cell_type": "code",
   "execution_count": 98,
   "id": "7aea1022-34f3-4efe-9412-39c1963a1021",
   "metadata": {},
   "outputs": [
    {
     "data": {
      "text/plain": [
       "[6, 4, 4, 2, 6, 4, 4, 3, 4, 6]"
      ]
     },
     "execution_count": 98,
     "metadata": {},
     "output_type": "execute_result"
    }
   ],
   "source": [
    "v2 = [randint(1, 6) for _ in range(10)]\n",
    "v2"
   ]
  },
  {
   "cell_type": "code",
   "execution_count": 99,
   "id": "2ea2d949-46b9-48c4-a980-6e456ffd31c4",
   "metadata": {},
   "outputs": [
    {
     "data": {
      "text/plain": [
       "[2, 3, 4, 4, 4, 4, 4, 6, 6, 6]"
      ]
     },
     "execution_count": 99,
     "metadata": {},
     "output_type": "execute_result"
    }
   ],
   "source": [
    "sorted(v2)"
   ]
  },
  {
   "cell_type": "code",
   "execution_count": 100,
   "id": "52f9e0e0-c20e-4696-a109-2aae61b15043",
   "metadata": {},
   "outputs": [
    {
     "data": {
      "text/plain": [
       "[6, 4, 3, 4, 4, 6, 2, 4, 4, 6]"
      ]
     },
     "execution_count": 100,
     "metadata": {},
     "output_type": "execute_result"
    }
   ],
   "source": [
    "list(reversed(v2))"
   ]
  },
  {
   "cell_type": "code",
   "execution_count": 101,
   "id": "c15167fa-c6a5-4981-bfd9-6d7e128039a1",
   "metadata": {},
   "outputs": [
    {
     "data": {
      "text/plain": [
       "[6, 4, 4, 2, 6, 4, 4, 3, 4, 6]"
      ]
     },
     "execution_count": 101,
     "metadata": {},
     "output_type": "execute_result"
    }
   ],
   "source": [
    "v2"
   ]
  },
  {
   "cell_type": "code",
   "execution_count": 102,
   "id": "8e188e4c-3f04-458e-b05d-009269919709",
   "metadata": {},
   "outputs": [
    {
     "data": {
      "text/plain": [
       "2"
      ]
     },
     "execution_count": 102,
     "metadata": {},
     "output_type": "execute_result"
    }
   ],
   "source": [
    "min(v2)"
   ]
  },
  {
   "cell_type": "code",
   "execution_count": 103,
   "id": "e35fbecc-8b87-4dfc-b923-70cb00a9af1c",
   "metadata": {},
   "outputs": [
    {
     "data": {
      "text/plain": [
       "6"
      ]
     },
     "execution_count": 103,
     "metadata": {},
     "output_type": "execute_result"
    }
   ],
   "source": [
    "max(v2)"
   ]
  },
  {
   "cell_type": "code",
   "execution_count": 104,
   "id": "710c857a-5e87-4cbe-bfad-c8314ddacfcf",
   "metadata": {},
   "outputs": [
    {
     "data": {
      "text/plain": [
       "1"
      ]
     },
     "execution_count": 104,
     "metadata": {},
     "output_type": "execute_result"
    }
   ],
   "source": [
    "v2.count(min(v2))"
   ]
  },
  {
   "cell_type": "markdown",
   "id": "461a4246-2eed-4c85-b1db-5e588d133c4b",
   "metadata": {},
   "source": [
    "## 5c. Dictionaries\n",
    "\n",
    "A Key➔Value Mapping. \n",
    "\n",
    "Literals have ``:`` and are wrapped in ``{}``. The ``dict()`` function expects a sequence of two-tuples. "
   ]
  },
  {
   "cell_type": "code",
   "execution_count": 105,
   "id": "772aab65-80c4-411c-82ef-43bf8c0c7822",
   "metadata": {},
   "outputs": [],
   "source": [
    "words = {\"one\": 1, \"two\": 2, \"three\": 3, \"four\": 4, \"five\": 5, \"six\": 6, \"seven\": 7, \"eight\": 8, \"nine\": 9}"
   ]
  },
  {
   "cell_type": "code",
   "execution_count": 106,
   "id": "1d80fee1-4fab-4dd1-bca3-392203709451",
   "metadata": {},
   "outputs": [
    {
     "data": {
      "text/plain": [
       "2"
      ]
     },
     "execution_count": 106,
     "metadata": {},
     "output_type": "execute_result"
    }
   ],
   "source": [
    "words[\"two\"]"
   ]
  },
  {
   "cell_type": "code",
   "execution_count": 107,
   "id": "e207f14f-8d19-4e74-92e7-14eecdff58b8",
   "metadata": {},
   "outputs": [
    {
     "data": {
      "text/plain": [
       "42"
      ]
     },
     "execution_count": 107,
     "metadata": {},
     "output_type": "execute_result"
    }
   ],
   "source": [
    "words[\"four\"]*10 + words[\"two\"]"
   ]
  },
  {
   "cell_type": "code",
   "execution_count": 108,
   "id": "fd36b2cf-c833-40cc-9443-7f7abbc1ba10",
   "metadata": {},
   "outputs": [
    {
     "data": {
      "text/plain": [
       "dict_keys(['one', 'two', 'three', 'four', 'five', 'six', 'seven', 'eight', 'nine'])"
      ]
     },
     "execution_count": 108,
     "metadata": {},
     "output_type": "execute_result"
    }
   ],
   "source": [
    "words.keys()"
   ]
  },
  {
   "cell_type": "code",
   "execution_count": 109,
   "id": "b6ef13aa-3efc-4f13-885b-0ffe9024f682",
   "metadata": {},
   "outputs": [
    {
     "data": {
      "text/plain": [
       "dict_values([1, 2, 3, 4, 5, 6, 7, 8, 9])"
      ]
     },
     "execution_count": 109,
     "metadata": {},
     "output_type": "execute_result"
    }
   ],
   "source": [
    "words.values()"
   ]
  },
  {
   "cell_type": "markdown",
   "id": "abed8f1d-ec8f-4b44-8924-d0d03762f8a3",
   "metadata": {},
   "source": [
    "## Mutability"
   ]
  },
  {
   "cell_type": "code",
   "execution_count": 110,
   "id": "76f4b9bf-192e-4a53-8dca-6c6d9ce2a045",
   "metadata": {
    "tags": [
     "raises-exception"
    ]
   },
   "outputs": [
    {
     "ename": "KeyError",
     "evalue": "'ten'",
     "output_type": "error",
     "traceback": [
      "\u001b[0;31m---------------------------------------------------------------------------\u001b[0m",
      "\u001b[0;31mKeyError\u001b[0m                                  Traceback (most recent call last)",
      "\u001b[0;32m<ipython-input-110-092b45ac1aa5>\u001b[0m in \u001b[0;36m<module>\u001b[0;34m\u001b[0m\n\u001b[0;32m----> 1\u001b[0;31m \u001b[0mwords\u001b[0m\u001b[0;34m[\u001b[0m\u001b[0;34m\"ten\"\u001b[0m\u001b[0;34m]\u001b[0m\u001b[0;34m\u001b[0m\u001b[0;34m\u001b[0m\u001b[0m\n\u001b[0m",
      "\u001b[0;31mKeyError\u001b[0m: 'ten'"
     ]
    }
   ],
   "source": [
    "words[\"ten\"]"
   ]
  },
  {
   "cell_type": "code",
   "execution_count": 111,
   "id": "282ca891-c2f7-4df3-b5dd-f6aeb74db11d",
   "metadata": {},
   "outputs": [
    {
     "data": {
      "text/plain": [
       "False"
      ]
     },
     "execution_count": 111,
     "metadata": {},
     "output_type": "execute_result"
    }
   ],
   "source": [
    "\"ten\" in words"
   ]
  },
  {
   "cell_type": "code",
   "execution_count": 112,
   "id": "bb38c764-48a9-4bbf-8a56-3d8856791dc6",
   "metadata": {},
   "outputs": [],
   "source": [
    "words[\"ten\"] = 10\n",
    "words[\"zero\"] = 0"
   ]
  },
  {
   "cell_type": "code",
   "execution_count": 113,
   "id": "1f8d2c47-39ed-4d8d-bae1-f8534578aa76",
   "metadata": {},
   "outputs": [
    {
     "data": {
      "text/plain": [
       "True"
      ]
     },
     "execution_count": 113,
     "metadata": {},
     "output_type": "execute_result"
    }
   ],
   "source": [
    "\"ten\" in words"
   ]
  },
  {
   "cell_type": "code",
   "execution_count": 114,
   "id": "3de30c1f-7bd8-4a9f-8044-36ee1c9bf6f3",
   "metadata": {},
   "outputs": [],
   "source": [
    "del words[\"ten\"]"
   ]
  },
  {
   "cell_type": "code",
   "execution_count": 115,
   "id": "c9ced9cb-124c-4192-8178-db9910de68c5",
   "metadata": {},
   "outputs": [
    {
     "data": {
      "text/plain": [
       "False"
      ]
     },
     "execution_count": 115,
     "metadata": {},
     "output_type": "execute_result"
    }
   ],
   "source": [
    "\"ten\" in words"
   ]
  },
  {
   "cell_type": "markdown",
   "id": "9d2ea807-4c3b-4c28-a4dc-c9a4b3f53b92",
   "metadata": {},
   "source": [
    "## 5d. Composite Objects\n",
    "\n",
    "Example is a spreadsheet in CSV notation.\n",
    "\n",
    "Rows of dictionaries with row header and row value."
   ]
  },
  {
   "cell_type": "code",
   "execution_count": 116,
   "id": "af291ddf-6927-4664-a983-e538d752a9f0",
   "metadata": {
    "tags": []
   },
   "outputs": [],
   "source": [
    "import csv\n",
    "from pathlib import Path"
   ]
  },
  {
   "cell_type": "code",
   "execution_count": 117,
   "id": "7e3f21e9-757c-4174-8339-f34cf6193e96",
   "metadata": {
    "tags": []
   },
   "outputs": [],
   "source": [
    "source = Path(\"series_1.csv\")\n",
    "with source.open() as source_file:\n",
    "    reader = csv.DictReader(source_file)\n",
    "    data = list(reader)"
   ]
  },
  {
   "cell_type": "markdown",
   "id": "ebef1295-6ba5-4758-9250-938dd9fc7ee0",
   "metadata": {},
   "source": [
    "We've defined the ``Path`` to our data. It's in the current working directory.\n",
    "\n",
    "We've opened the file in a context (so that it will be properly closed when we're done.)\n",
    "\n",
    "We've created a Reader for the CSV-format data. This will parse each line of text and create a dictionary for the row of data\n",
    "\n",
    "We created a list object from the rows of data."
   ]
  },
  {
   "cell_type": "code",
   "execution_count": 118,
   "id": "3e5171b6-f442-4848-b1a4-9b9d48994bad",
   "metadata": {},
   "outputs": [
    {
     "data": {
      "text/plain": [
       "[{'x': '10.0', 'y': '8.04'},\n",
       " {'x': '8.0', 'y': '6.95'},\n",
       " {'x': '13.0', 'y': '7.58'},\n",
       " {'x': '9.0', 'y': '8.81'},\n",
       " {'x': '11.0', 'y': '8.33'},\n",
       " {'x': '14.0', 'y': '9.96'},\n",
       " {'x': '6.0', 'y': '7.24'},\n",
       " {'x': '4.0', 'y': '4.26'},\n",
       " {'x': '12.0', 'y': '10.84'},\n",
       " {'x': '7.0', 'y': '4.82'},\n",
       " {'x': '5.0', 'y': '5.68'}]"
      ]
     },
     "execution_count": 118,
     "metadata": {},
     "output_type": "execute_result"
    }
   ],
   "source": [
    "data"
   ]
  },
  {
   "cell_type": "markdown",
   "id": "7ba97661-f62c-4f8f-977c-10e5315cfc61",
   "metadata": {},
   "source": [
    "The type annotation is the following"
   ]
  },
  {
   "cell_type": "code",
   "execution_count": 119,
   "id": "ef663cca-c5b0-4dd2-84a3-fc51133131ba",
   "metadata": {},
   "outputs": [
    {
     "data": {
      "text/plain": [
       "list[dict[str, str]]"
      ]
     },
     "execution_count": 119,
     "metadata": {},
     "output_type": "execute_result"
    }
   ],
   "source": [
    "list[dict[str, str]]"
   ]
  },
  {
   "cell_type": "markdown",
   "id": "0355b673-8eeb-471a-887b-812542bb3656",
   "metadata": {},
   "source": [
    "The values are all strings; we really need them to be float values. That's the topic for part III. Working with the built-in data structures.\n",
    "\n",
    "Here are some teasers."
   ]
  },
  {
   "cell_type": "code",
   "execution_count": 120,
   "id": "81aefa68-a387-413f-958e-d2702658638b",
   "metadata": {},
   "outputs": [
    {
     "name": "stdout",
     "output_type": "stream",
     "text": [
      "10.00  8.04\n",
      " 8.00  6.95\n",
      "13.00  7.58\n",
      " 9.00  8.81\n",
      "11.00  8.33\n",
      "14.00  9.96\n",
      " 6.00  7.24\n",
      " 4.00  4.26\n",
      "12.00 10.84\n",
      " 7.00  4.82\n",
      " 5.00  5.68\n"
     ]
    }
   ],
   "source": [
    "for row in data:\n",
    "    print(f\"{float(row['x']):5.2f} {float(row['y']):5.2f}\")"
   ]
  },
  {
   "cell_type": "code",
   "execution_count": 121,
   "id": "0d1d39b2-0dee-4b6b-a10d-e2da7a7ed479",
   "metadata": {},
   "outputs": [],
   "source": [
    "x_values = [float(row['x']) for row in data]"
   ]
  },
  {
   "cell_type": "code",
   "execution_count": 122,
   "id": "2b8f83cf-1fbe-471f-9510-d883af92fbc5",
   "metadata": {},
   "outputs": [],
   "source": [
    "from statistics import mean, stdev"
   ]
  },
  {
   "cell_type": "code",
   "execution_count": 123,
   "id": "76e6151a-ef6e-4434-8543-99fe14c40717",
   "metadata": {},
   "outputs": [
    {
     "data": {
      "text/plain": [
       "9.0"
      ]
     },
     "execution_count": 123,
     "metadata": {},
     "output_type": "execute_result"
    }
   ],
   "source": [
    "mean(x_values)"
   ]
  },
  {
   "cell_type": "code",
   "execution_count": 124,
   "id": "345803ea-01ef-4f44-af16-ae9f4ef7e231",
   "metadata": {},
   "outputs": [
    {
     "data": {
      "text/plain": [
       "3.3166247903554"
      ]
     },
     "execution_count": 124,
     "metadata": {},
     "output_type": "execute_result"
    }
   ],
   "source": [
    "stdev(x_values)"
   ]
  },
  {
   "cell_type": "markdown",
   "id": "d87bb3f2-a4e0-4e04-ab53-e6c6df85a9e7",
   "metadata": {},
   "source": [
    "## 6. Assignment and Variables"
   ]
  },
  {
   "cell_type": "markdown",
   "id": "1cdc3cdd-702b-4521-9858-5afe6688b9af",
   "metadata": {},
   "source": [
    "Important additional note on the language at its foundation.\n",
    "\n",
    "What is a variable?\n",
    "\n",
    "Lots of languages have variable declarations where a variable is bound to a type.\n",
    "\n",
    "There's no such thing in Python."
   ]
  },
  {
   "cell_type": "code",
   "execution_count": 125,
   "id": "f050207f-9ccb-462a-81dc-e570b3415021",
   "metadata": {},
   "outputs": [],
   "source": [
    "a = 42"
   ]
  },
  {
   "cell_type": "code",
   "execution_count": 126,
   "id": "f4ab9f4a-b0b7-43cc-a25e-09c6acc75cd5",
   "metadata": {},
   "outputs": [
    {
     "data": {
      "text/plain": [
       "int"
      ]
     },
     "execution_count": 126,
     "metadata": {},
     "output_type": "execute_result"
    }
   ],
   "source": [
    "type(a)"
   ]
  },
  {
   "cell_type": "code",
   "execution_count": 127,
   "id": "fb5983af-4608-4fcf-8d84-56a99b1b4e28",
   "metadata": {},
   "outputs": [],
   "source": [
    "a = \"forty-two\""
   ]
  },
  {
   "cell_type": "code",
   "execution_count": 128,
   "id": "147eb4f1-8452-4282-a21d-4259f57b1e71",
   "metadata": {},
   "outputs": [
    {
     "data": {
      "text/plain": [
       "str"
      ]
     },
     "execution_count": 128,
     "metadata": {},
     "output_type": "execute_result"
    }
   ],
   "source": [
    "type(a)"
   ]
  },
  {
   "cell_type": "code",
   "execution_count": 129,
   "id": "632371d4-7132-41f2-826b-4e5c7889529f",
   "metadata": {},
   "outputs": [],
   "source": [
    "del a"
   ]
  },
  {
   "cell_type": "code",
   "execution_count": 130,
   "id": "20f65017-3a8b-4332-b1d6-be9fe5704d48",
   "metadata": {
    "tags": [
     "raises-exception"
    ]
   },
   "outputs": [
    {
     "ename": "NameError",
     "evalue": "name 'a' is not defined",
     "output_type": "error",
     "traceback": [
      "\u001b[0;31m---------------------------------------------------------------------------\u001b[0m",
      "\u001b[0;31mNameError\u001b[0m                                 Traceback (most recent call last)",
      "\u001b[0;32m<ipython-input-130-b152ec05ccbc>\u001b[0m in \u001b[0;36m<module>\u001b[0;34m\u001b[0m\n\u001b[0;32m----> 1\u001b[0;31m \u001b[0mtype\u001b[0m\u001b[0;34m(\u001b[0m\u001b[0ma\u001b[0m\u001b[0;34m)\u001b[0m\u001b[0;34m\u001b[0m\u001b[0;34m\u001b[0m\u001b[0m\n\u001b[0m",
      "\u001b[0;31mNameError\u001b[0m: name 'a' is not defined"
     ]
    }
   ],
   "source": [
    "type(a)"
   ]
  },
  {
   "cell_type": "markdown",
   "id": "8f60f317-6910-4fb0-93a3-6d3bb32028dd",
   "metadata": {},
   "source": [
    "Yes. We can delete variable names. They're dynamic; not declared.\n",
    "\n",
    "How does this work?\n",
    "\n",
    "Need to switch to a non-iPython session to show this.\n",
    "\n",
    "```\n",
    "(python4hr) slott@MacBookPro-SLott ODSC-Live-4hr % python\n",
    "Python 3.9.6 (default, Aug 18 2021, 12:38:10) \n",
    "[Clang 10.0.0 ] :: Anaconda, Inc. on darwin\n",
    "Type \"help\", \"copyright\", \"credits\" or \"license\" for more information.\n",
    ">>> locals()\n",
    "{'__name__': '__main__', '__doc__': None, '__package__': None, '__loader__': <class '_frozen_importlib.BuiltinImporter'>, '__spec__': None, '__annotations__': {}, '__builtins__': <module 'builtins' (built-in)>}\n",
    ">>> a = 42\n",
    ">>> locals()\n",
    "{'__name__': '__main__', '__doc__': None, '__package__': None, '__loader__': <class '_frozen_importlib.BuiltinImporter'>, '__spec__': None, '__annotations__': {}, '__builtins__': <module 'builtins' (built-in)>, 'a': 42}\n",
    ">>>\n",
    "```"
   ]
  },
  {
   "cell_type": "markdown",
   "id": "97866a49-263e-4ac6-b60a-16db1ecfa58d",
   "metadata": {},
   "source": [
    "Python variables are a dictionary. The dictionary maps variable names to objects.\n",
    "\n",
    "We call it a \"namespace\" because it is the context in which variable names are understood.\n",
    "\n",
    "Objects have types.\n",
    "\n",
    "Variables are just a sticky note hanging off the object.\n",
    "\n",
    "There are other namespaces to for class names, imported modules, warning status, loggers, codecs. Lots of namespaces."
   ]
  },
  {
   "cell_type": "markdown",
   "id": "0944e5bc-0dbc-4838-994d-8637c190445a",
   "metadata": {},
   "source": [
    "The core assignment statement, ``=``, creates or replaces the labeled value in a namespace. "
   ]
  },
  {
   "cell_type": "markdown",
   "id": "dc509fa2-b919-47bb-9914-d184b43d2574",
   "metadata": {},
   "source": [
    "## Shared References\n",
    "\n",
    "A not completely obvious consequence of this is two variables can share a reference to an object.  \n",
    "\n",
    "This is how function parameters work."
   ]
  },
  {
   "cell_type": "code",
   "execution_count": 131,
   "id": "91af4f21-ec07-4452-8648-e4d1c1c5c998",
   "metadata": {},
   "outputs": [],
   "source": [
    "def palindromic(n: int) -> bool:\n",
    "    n_text = str(n)\n",
    "    for i in range(len(n_text)):\n",
    "        if n_text[i] != n_text[-1-i]:\n",
    "            return False\n",
    "    return True"
   ]
  },
  {
   "cell_type": "code",
   "execution_count": 132,
   "id": "433906d3-8f4e-444e-9c01-bb57e2c203ed",
   "metadata": {},
   "outputs": [
    {
     "data": {
      "text/plain": [
       "True"
      ]
     },
     "execution_count": 132,
     "metadata": {},
     "output_type": "execute_result"
    }
   ],
   "source": [
    "palindromic(9009)"
   ]
  },
  {
   "cell_type": "code",
   "execution_count": 133,
   "id": "8531c8ef-1445-421c-8984-008272b09ad3",
   "metadata": {},
   "outputs": [
    {
     "data": {
      "text/plain": [
       "False"
      ]
     },
     "execution_count": 133,
     "metadata": {},
     "output_type": "execute_result"
    }
   ],
   "source": [
    "palindromic(1234)"
   ]
  },
  {
   "cell_type": "code",
   "execution_count": 134,
   "id": "494b138f-c2e5-4d4d-a772-4a4c7cda4ac6",
   "metadata": {},
   "outputs": [
    {
     "data": {
      "text/plain": [
       "True"
      ]
     },
     "execution_count": 134,
     "metadata": {},
     "output_type": "execute_result"
    }
   ],
   "source": [
    "a = 959\n",
    "palindromic(a)"
   ]
  },
  {
   "cell_type": "markdown",
   "id": "d579dba6-73b7-4446-9b0d-d43ca5232390",
   "metadata": {},
   "source": [
    "Consider what happens inside the ``palindromic()`` function:\n",
    "\n",
    "A single object, ``959``, will have two references:\n",
    "\n",
    "- both ``a`` (in the global namespace)\n",
    "- and ``n`` (in the function's namespace)\n",
    "\n",
    "Other obejcts, like the string ``\"959\"`` assigned to ``n_text`` only has a reference count of one.\n",
    "\n",
    "When the function is done, objects are removed:\n",
    "\n",
    "1. The namespace associated with the function evaluation is removed.\n",
    "\n",
    "2. The objects in the ``locals()`` dictionary are no longer referenced by the namespace. Theese are ``n_text``, ``n``, and ``i``.\n",
    "\n",
    "3. Objects with a zero reference count (i.e. local objects) are cleaned up.\n",
    "   Other objects have a non-zero reference count; these are shared."
   ]
  },
  {
   "cell_type": "markdown",
   "id": "b2d8eec4-98b1-4264-87ec-7f95d7acb83b",
   "metadata": {},
   "source": [
    "## Spooky Action at a Distance\n",
    "\n",
    "This is a rare mistake, but everyone makes it sooner or later.\n",
    "\n",
    "Two references to a mutable object."
   ]
  },
  {
   "cell_type": "code",
   "execution_count": 135,
   "id": "f98f5858-b695-4db7-bfc1-f8b9d61edf45",
   "metadata": {},
   "outputs": [],
   "source": [
    "d_1 = {\"Some\": \"Dictionary\", \"Of\": \"Values\"}"
   ]
  },
  {
   "cell_type": "code",
   "execution_count": 136,
   "id": "8fde1eb7-f3d2-4d13-99f0-87a34f933907",
   "metadata": {},
   "outputs": [],
   "source": [
    "d_1[\"Like\"] = \"This\""
   ]
  },
  {
   "cell_type": "code",
   "execution_count": 137,
   "id": "c52187e4-6293-4e42-a5b5-a11ef9e7514f",
   "metadata": {},
   "outputs": [
    {
     "data": {
      "text/plain": [
       "{'Some': 'Dictionary', 'Of': 'Values', 'Like': 'This'}"
      ]
     },
     "execution_count": 137,
     "metadata": {},
     "output_type": "execute_result"
    }
   ],
   "source": [
    "d_1"
   ]
  },
  {
   "cell_type": "code",
   "execution_count": 138,
   "id": "8aa9144d-bc6d-4ecd-bf27-c648fb32b0b1",
   "metadata": {},
   "outputs": [],
   "source": [
    "d_2 = d_1"
   ]
  },
  {
   "cell_type": "markdown",
   "id": "71050eb4-9382-4a22-8464-aeeafc82f88a",
   "metadata": {},
   "source": [
    "What just happened?\n",
    "\n",
    "Copy of the entire dictionary?\n",
    "\n",
    "Shared reference?"
   ]
  },
  {
   "cell_type": "code",
   "execution_count": 139,
   "id": "6d5e1db0-dfce-41cb-bc2e-5fc247ac2c1d",
   "metadata": {},
   "outputs": [],
   "source": [
    "del d_2[\"Some\"]"
   ]
  },
  {
   "cell_type": "code",
   "execution_count": 140,
   "id": "1848dc55-8ce0-4ebb-ad78-4b1511d0d34a",
   "metadata": {},
   "outputs": [
    {
     "data": {
      "text/plain": [
       "{'Of': 'Values', 'Like': 'This'}"
      ]
     },
     "execution_count": 140,
     "metadata": {},
     "output_type": "execute_result"
    }
   ],
   "source": [
    "d_2"
   ]
  },
  {
   "cell_type": "markdown",
   "id": "8552ea77-6264-489f-b55e-bd56bbba245e",
   "metadata": {},
   "source": [
    "What happens to ``d_1``?"
   ]
  },
  {
   "cell_type": "code",
   "execution_count": 141,
   "id": "50f4b7c5-4289-4921-b17f-a6388014ca52",
   "metadata": {},
   "outputs": [
    {
     "data": {
      "text/plain": [
       "{'Of': 'Values', 'Like': 'This'}"
      ]
     },
     "execution_count": 141,
     "metadata": {},
     "output_type": "execute_result"
    }
   ],
   "source": [
    "d_1"
   ]
  },
  {
   "cell_type": "markdown",
   "id": "ef3cb7b9-813d-47a7-8a5e-613eb6bae7ca",
   "metadata": {},
   "source": [
    "This is super handy when you provide a mutable object to a function as an argument value.\n",
    "\n",
    "But.\n",
    "\n",
    "Be wary of simply assigning mutable objects to other variables.\n",
    "\n",
    "If you want a copy, ask for it"
   ]
  },
  {
   "cell_type": "code",
   "execution_count": 142,
   "id": "e83caa4d-2fd2-493b-a3c4-f0ef902a48e3",
   "metadata": {},
   "outputs": [],
   "source": [
    "d_copy = d_1.copy()"
   ]
  },
  {
   "cell_type": "code",
   "execution_count": 143,
   "id": "771c1151-17d0-4fd4-beeb-6f8820ccc8a0",
   "metadata": {},
   "outputs": [],
   "source": [
    "d_copy[\"Some\"] = \"Collection\""
   ]
  },
  {
   "cell_type": "code",
   "execution_count": 144,
   "id": "16b99ebd-8d40-478e-9b72-cc8df4655557",
   "metadata": {},
   "outputs": [
    {
     "data": {
      "text/plain": [
       "{'Of': 'Values', 'Like': 'This'}"
      ]
     },
     "execution_count": 144,
     "metadata": {},
     "output_type": "execute_result"
    }
   ],
   "source": [
    "d_1"
   ]
  },
  {
   "cell_type": "code",
   "execution_count": 145,
   "id": "47091dda-4cc9-43fd-acdd-a13d858699ff",
   "metadata": {},
   "outputs": [
    {
     "data": {
      "text/plain": [
       "{'Of': 'Values', 'Like': 'This', 'Some': 'Collection'}"
      ]
     },
     "execution_count": 145,
     "metadata": {},
     "output_type": "execute_result"
    }
   ],
   "source": [
    "d_copy"
   ]
  },
  {
   "cell_type": "markdown",
   "id": "d42165c6-b8cd-4eff-be58-cba865615a50",
   "metadata": {},
   "source": [
    "## Wrap-up\n",
    "\n",
    "1.  Numbers\n",
    "\n",
    "2.  Strings\n",
    "\n",
    "3.  Booleans\n",
    "\n",
    "4.  Tuples\n",
    "\n",
    "5.  Mutable Data Structures\n",
    "\n",
    "    a.  Sets\n",
    "\n",
    "    b.  Lists\n",
    "\n",
    "    c.  Dictionaries\n",
    "    \n",
    "    d.  Composites: list of dict \n",
    "    \n",
    "6. Assignment and Variables"
   ]
  },
  {
   "cell_type": "markdown",
   "id": "633873d5-b480-4e86-8b97-678968b7574a",
   "metadata": {},
   "source": [
    "# Questions?\n",
    "\n",
    "We'll start again with Part 3,  **The Five Kinds of Python Functions**"
   ]
  },
  {
   "cell_type": "code",
   "execution_count": null,
   "id": "0693d7fd-f8fc-403e-8b01-15797da579fc",
   "metadata": {},
   "outputs": [],
   "source": []
  }
 ],
 "metadata": {
  "kernelspec": {
   "display_name": "Python 3",
   "language": "python",
   "name": "python3"
  },
  "language_info": {
   "codemirror_mode": {
    "name": "ipython",
    "version": 3
   },
   "file_extension": ".py",
   "mimetype": "text/x-python",
   "name": "python",
   "nbconvert_exporter": "python",
   "pygments_lexer": "ipython3",
   "version": "3.9.6"
  }
 },
 "nbformat": 4,
 "nbformat_minor": 5
}
